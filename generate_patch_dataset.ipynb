{
 "cells": [
  {
   "cell_type": "code",
   "execution_count": 12,
   "id": "de0f93eb",
   "metadata": {},
   "outputs": [],
   "source": [
    "import os\n",
    "import cv2\n",
    "from src import *\n",
    "from tqdm import tqdm\n",
    "import math\n",
    "\n",
    "destination = \"./patch_dataset\"\n",
    "image_root = os.path.join(os.environ[\"DATASET_ROOT\"], \"bcd2022\", \"images_1024\")"
   ]
  },
  {
   "cell_type": "code",
   "execution_count": 19,
   "id": "623fe5bd",
   "metadata": {},
   "outputs": [],
   "source": [
    "def get_mil_instance_grid(image, num_wh, overlap_perc_wh, input_size=None):\n",
    "    img_h, img_w = image.shape\n",
    "    instance_w = math.floor(img_w / ((1 - overlap_perc_wh[0]) * (num_wh[0] - 1) + 1))\n",
    "    instance_h = math.floor(img_h / ((1 - overlap_perc_wh[1]) * (num_wh[1] - 1) + 1))\n",
    "\n",
    "    step_w = (1 - overlap_perc_wh[0]) * instance_w\n",
    "    step_h = (1 - overlap_perc_wh[1]) * instance_h\n",
    "\n",
    "    instance_list = []\n",
    "    for i in range(num_wh[1]):\n",
    "        i1 = int(i * step_h)\n",
    "        i2 = int(i1 + instance_h)\n",
    "        for j in range(num_wh[0]):\n",
    "            j1 = int(j * step_w)\n",
    "            j2 = int(j1 + instance_w)\n",
    "            if input_size is not None:\n",
    "                instance = cv2.resize(image[i1:i2, j1:j2], input_size)\n",
    "            else:\n",
    "                instance = image[i1:i2, j1:j2]\n",
    "\n",
    "            instance_list.append(instance)\n",
    "\n",
    "    return instance_list"
   ]
  },
  {
   "cell_type": "code",
   "execution_count": 31,
   "id": "ec8a9d39",
   "metadata": {},
   "outputs": [
    {
     "name": "stderr",
     "output_type": "stream",
     "text": [
      "  0%|                                                 | 0/54706 [00:00<?, ?it/s]"
     ]
    },
    {
     "name": "stdout",
     "output_type": "stream",
     "text": [
      "0.0\n",
      "11.033401489257812\n",
      "45.13029479980469\n",
      "81.68072509765625\n",
      "39.03852844238281\n",
      "117.86419677734375\n",
      "125.6414794921875\n",
      "116.24095153808594\n",
      "39.945648193359375\n",
      "107.24966430664062\n",
      "117.49722290039062\n",
      "116.74609375\n",
      "0.0\n",
      "12.459320068359375\n",
      "41.148101806640625\n",
      "66.90184020996094\n"
     ]
    },
    {
     "name": "stderr",
     "output_type": "stream",
     "text": [
      "\n"
     ]
    }
   ],
   "source": [
    "files = os.listdir(image_root)\n",
    "nfile = len(files)\n",
    "\n",
    "os.makedirs(destination, exist_ok=True)\n",
    "\n",
    "index = 0\n",
    "for k, f in enumerate(tqdm(files)):\n",
    "    path = os.path.join(image_root, f)\n",
    "    img = cv2.imread(path, 0)\n",
    "    img = crop_breast(img)\n",
    "    instances = get_mil_instance_grid(img, (4, 4), (0.1, 0.1), (256, 256))\n",
    "    for patch in instances:\n",
    "        if patch.mean() > 15:\n",
    "            cv2.imwrite(os.path.join(destination, f\"{index:06d}.png\"), patch)\n",
    "        index += 1\n",
    "    break"
   ]
  },
  {
   "cell_type": "code",
   "execution_count": 1,
   "id": "a4838afd",
   "metadata": {},
   "outputs": [],
   "source": [
    "\n"
   ]
  },
  {
   "cell_type": "code",
   "execution_count": null,
   "id": "6fd83952",
   "metadata": {},
   "outputs": [],
   "source": []
  }
 ],
 "metadata": {
  "kernelspec": {
   "display_name": "Python 3 (ipykernel)",
   "language": "python",
   "name": "python3"
  },
  "language_info": {
   "codemirror_mode": {
    "name": "ipython",
    "version": 3
   },
   "file_extension": ".py",
   "mimetype": "text/x-python",
   "name": "python",
   "nbconvert_exporter": "python",
   "pygments_lexer": "ipython3",
   "version": "3.10.6"
  }
 },
 "nbformat": 4,
 "nbformat_minor": 5
}
