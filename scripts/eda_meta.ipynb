{
 "cells": [
  {
   "cell_type": "code",
   "execution_count": 1,
   "id": "73ab5eb5",
   "metadata": {},
   "outputs": [],
   "source": [
    "import os\n",
    "import numpy as np\n",
    "import matplotlib.pyplot as plt\n",
    "import pandas as pd\n",
    "import seaborn as sns\n",
    "import json\n",
    "\n",
    "J = os.path.join\n",
    "\n",
    "root = J(os.environ[\"DATASET_ROOT\"], \"bcd2022\")"
   ]
  },
  {
   "cell_type": "code",
   "execution_count": 2,
   "id": "31abc2cb",
   "metadata": {},
   "outputs": [
    {
     "data": {
      "text/html": [
       "<div>\n",
       "<style scoped>\n",
       "    .dataframe tbody tr th:only-of-type {\n",
       "        vertical-align: middle;\n",
       "    }\n",
       "\n",
       "    .dataframe tbody tr th {\n",
       "        vertical-align: top;\n",
       "    }\n",
       "\n",
       "    .dataframe thead th {\n",
       "        text-align: right;\n",
       "    }\n",
       "</style>\n",
       "<table border=\"1\" class=\"dataframe\">\n",
       "  <thead>\n",
       "    <tr style=\"text-align: right;\">\n",
       "      <th></th>\n",
       "      <th>site_id</th>\n",
       "      <th>patient_id</th>\n",
       "      <th>image_id</th>\n",
       "      <th>laterality</th>\n",
       "      <th>view</th>\n",
       "      <th>age</th>\n",
       "      <th>cancer</th>\n",
       "      <th>biopsy</th>\n",
       "      <th>invasive</th>\n",
       "      <th>BIRADS</th>\n",
       "      <th>implant</th>\n",
       "      <th>density</th>\n",
       "      <th>machine_id</th>\n",
       "      <th>difficult_negative_case</th>\n",
       "    </tr>\n",
       "  </thead>\n",
       "  <tbody>\n",
       "    <tr>\n",
       "      <th>0</th>\n",
       "      <td>2</td>\n",
       "      <td>10006</td>\n",
       "      <td>462822612</td>\n",
       "      <td>L</td>\n",
       "      <td>CC</td>\n",
       "      <td>61.0</td>\n",
       "      <td>0</td>\n",
       "      <td>0</td>\n",
       "      <td>0</td>\n",
       "      <td>NaN</td>\n",
       "      <td>0</td>\n",
       "      <td>NaN</td>\n",
       "      <td>29</td>\n",
       "      <td>False</td>\n",
       "    </tr>\n",
       "    <tr>\n",
       "      <th>1</th>\n",
       "      <td>2</td>\n",
       "      <td>10006</td>\n",
       "      <td>1459541791</td>\n",
       "      <td>L</td>\n",
       "      <td>MLO</td>\n",
       "      <td>61.0</td>\n",
       "      <td>0</td>\n",
       "      <td>0</td>\n",
       "      <td>0</td>\n",
       "      <td>NaN</td>\n",
       "      <td>0</td>\n",
       "      <td>NaN</td>\n",
       "      <td>29</td>\n",
       "      <td>False</td>\n",
       "    </tr>\n",
       "    <tr>\n",
       "      <th>2</th>\n",
       "      <td>2</td>\n",
       "      <td>10006</td>\n",
       "      <td>1864590858</td>\n",
       "      <td>R</td>\n",
       "      <td>MLO</td>\n",
       "      <td>61.0</td>\n",
       "      <td>0</td>\n",
       "      <td>0</td>\n",
       "      <td>0</td>\n",
       "      <td>NaN</td>\n",
       "      <td>0</td>\n",
       "      <td>NaN</td>\n",
       "      <td>29</td>\n",
       "      <td>False</td>\n",
       "    </tr>\n",
       "    <tr>\n",
       "      <th>3</th>\n",
       "      <td>2</td>\n",
       "      <td>10006</td>\n",
       "      <td>1874946579</td>\n",
       "      <td>R</td>\n",
       "      <td>CC</td>\n",
       "      <td>61.0</td>\n",
       "      <td>0</td>\n",
       "      <td>0</td>\n",
       "      <td>0</td>\n",
       "      <td>NaN</td>\n",
       "      <td>0</td>\n",
       "      <td>NaN</td>\n",
       "      <td>29</td>\n",
       "      <td>False</td>\n",
       "    </tr>\n",
       "    <tr>\n",
       "      <th>4</th>\n",
       "      <td>2</td>\n",
       "      <td>10011</td>\n",
       "      <td>220375232</td>\n",
       "      <td>L</td>\n",
       "      <td>CC</td>\n",
       "      <td>55.0</td>\n",
       "      <td>0</td>\n",
       "      <td>0</td>\n",
       "      <td>0</td>\n",
       "      <td>0.0</td>\n",
       "      <td>0</td>\n",
       "      <td>NaN</td>\n",
       "      <td>21</td>\n",
       "      <td>True</td>\n",
       "    </tr>\n",
       "  </tbody>\n",
       "</table>\n",
       "</div>"
      ],
      "text/plain": [
       "   site_id  patient_id    image_id laterality view   age  cancer  biopsy  \\\n",
       "0        2       10006   462822612          L   CC  61.0       0       0   \n",
       "1        2       10006  1459541791          L  MLO  61.0       0       0   \n",
       "2        2       10006  1864590858          R  MLO  61.0       0       0   \n",
       "3        2       10006  1874946579          R   CC  61.0       0       0   \n",
       "4        2       10011   220375232          L   CC  55.0       0       0   \n",
       "\n",
       "   invasive  BIRADS  implant density  machine_id  difficult_negative_case  \n",
       "0         0     NaN        0     NaN          29                    False  \n",
       "1         0     NaN        0     NaN          29                    False  \n",
       "2         0     NaN        0     NaN          29                    False  \n",
       "3         0     NaN        0     NaN          29                    False  \n",
       "4         0     0.0        0     NaN          21                     True  "
      ]
     },
     "execution_count": 2,
     "metadata": {},
     "output_type": "execute_result"
    }
   ],
   "source": [
    "df = pd.read_csv(J(root,\"train.csv\"))\n",
    "df.head()"
   ]
  },
  {
   "cell_type": "code",
   "execution_count": 3,
   "id": "459fb589",
   "metadata": {
    "scrolled": true
   },
   "outputs": [
    {
     "data": {
      "text/plain": [
       "site_id                        0\n",
       "patient_id                     0\n",
       "image_id                       0\n",
       "laterality                     0\n",
       "view                           0\n",
       "age                           37\n",
       "cancer                         0\n",
       "biopsy                         0\n",
       "invasive                       0\n",
       "BIRADS                     28420\n",
       "implant                        0\n",
       "density                    25236\n",
       "machine_id                     0\n",
       "difficult_negative_case        0\n",
       "dtype: int64"
      ]
     },
     "execution_count": 3,
     "metadata": {},
     "output_type": "execute_result"
    }
   ],
   "source": [
    "df.isna().sum()"
   ]
  },
  {
   "cell_type": "markdown",
   "id": "fc6820d4",
   "metadata": {},
   "source": [
    "# Grouped analysis"
   ]
  },
  {
   "cell_type": "code",
   "execution_count": 19,
   "id": "efa33fd8",
   "metadata": {},
   "outputs": [],
   "source": [
    "dfg = df.groupby(['patient_id', 'laterality'])"
   ]
  },
  {
   "cell_type": "code",
   "execution_count": 20,
   "id": "5a1c0be2",
   "metadata": {},
   "outputs": [
    {
     "data": {
      "text/plain": [
       "2    18384\n",
       "3     4227\n",
       "4      904\n",
       "5      239\n",
       "6       60\n",
       "7       10\n",
       "8        2\n",
       "Name: view, dtype: int64"
      ]
     },
     "execution_count": 20,
     "metadata": {},
     "output_type": "execute_result"
    }
   ],
   "source": [
    "# How many view per pid_laterality\n",
    "dfg[\"view\"].count().value_counts()"
   ]
  },
  {
   "cell_type": "code",
   "execution_count": 25,
   "id": "0e3d0a08",
   "metadata": {},
   "outputs": [
    {
     "data": {
      "text/plain": [
       "[CC, MLO]                      18384\n",
       "[CC, MLO, MLO]                  2599\n",
       "[CC, CC, MLO]                   1606\n",
       "[CC, CC, MLO, MLO]               795\n",
       "[CC, CC, MLO, MLO, MLO]          161\n",
       "[CC, CC, CC, MLO, MLO]            71\n",
       "[CC, MLO, MLO, MLO]               60\n",
       "[CC, CC, CC, MLO, MLO, MLO]       46\n",
       "[CC, CC, CC, MLO]                 44\n",
       "[AT, CC, MLO]                     10\n",
       "Name: view, dtype: int64"
      ]
     },
     "execution_count": 25,
     "metadata": {},
     "output_type": "execute_result"
    }
   ],
   "source": [
    "dfg[\"view\"].apply(lambda x: sorted(list(x))).value_counts()[:10]"
   ]
  },
  {
   "cell_type": "code",
   "execution_count": 37,
   "id": "e67f43e9",
   "metadata": {},
   "outputs": [
    {
     "name": "stdout",
     "output_type": "stream",
     "text": [
      "0.0    23334\n",
      "1.0      492\n",
      "Name: cancer, dtype: int64\n",
      "view  cancer  biopsy\n",
      "2     0.0     0.0       17578\n",
      "3     0.0     0.0        3924\n",
      "4     0.0     0.0         822\n",
      "2     0.0     1.0         451\n",
      "      1.0     1.0         355\n",
      "5     0.0     0.0         220\n",
      "3     0.0     1.0         196\n",
      "      1.0     1.0         107\n",
      "4     0.0     1.0          59\n",
      "6     0.0     0.0          57\n",
      "4     1.0     1.0          23\n",
      "5     0.0     1.0          12\n",
      "7     0.0     0.0           9\n",
      "5     1.0     1.0           7\n",
      "6     0.0     1.0           3\n",
      "8     0.0     0.0           2\n",
      "7     0.0     1.0           1\n",
      "dtype: int64\n"
     ]
    },
    {
     "name": "stderr",
     "output_type": "stream",
     "text": [
      "/tmp/ipykernel_42640/1451783869.py:1: FutureWarning: Indexing with multiple keys (implicitly converted to a tuple of keys) will be deprecated, use a list instead.\n",
      "  dfcount=dfg[\"view\", \"cancer\", \"biopsy\"].agg({'view':'count',\n"
     ]
    }
   ],
   "source": [
    "dfcount=dfg[\"view\", \"cancer\", \"biopsy\"].agg({'view':'count', \n",
    "                                             'cancer':'mean', \n",
    "                                             'biopsy':'mean'})\n",
    "print(dfcount[\"cancer\"].value_counts())\n",
    "print(dfcount.value_counts())"
   ]
  },
  {
   "cell_type": "markdown",
   "id": "9eb7762b",
   "metadata": {},
   "source": [
    "# Correlations"
   ]
  },
  {
   "cell_type": "code",
   "execution_count": 59,
   "id": "0841c3bd",
   "metadata": {},
   "outputs": [],
   "source": [
    "from scipy.stats import chi2_contingency\n",
    " \n",
    "def correlation(df, var_a, var_b):\n",
    "    CrosstabResult=pd.crosstab(index=df[var_a],columns=df[var_b])\n",
    "    # Performing Chi-sq test\n",
    "    chi2, p, dof, expected = chi2_contingency(CrosstabResult)\n",
    "    return CrosstabResult, expected, p"
   ]
  },
  {
   "cell_type": "code",
   "execution_count": 64,
   "id": "2be4ec5c",
   "metadata": {},
   "outputs": [
    {
     "name": "stdout",
     "output_type": "stream",
     "text": [
      "+ site_id is correlated to cancer, p_value 0.02126342159999086\n",
      "cancer       0    1\n",
      "site_id            \n",
      "1        28855  664\n",
      "2        24693  494\n",
      "[[28894.15076957   624.84923043]\n",
      " [24653.84923043   533.15076957]]\n",
      "- laterality is NOT correlated to cancer, p_value 0.539819693204795\n",
      "- view is NOT correlated to cancer, p_value 0.22839468598585227\n",
      "+ biopsy is correlated to cancer, p_value 0.0\n",
      "cancer      0     1\n",
      "biopsy             \n",
      "0       51737     0\n",
      "1        1811  1158\n",
      "[[50641.84689065  1095.15310935]\n",
      " [ 2906.15310935    62.84689065]]\n",
      "+ invasive is correlated to cancer, p_value 0.0\n",
      "cancer        0    1\n",
      "invasive            \n",
      "0         53548  340\n",
      "1             0  818\n",
      "[[52747.31517567  1140.68482433]\n",
      " [  800.68482433    17.31517567]]\n",
      "+ BIRADS is correlated to cancer, p_value 0.0\n",
      "cancer      0    1\n",
      "BIRADS            \n",
      "0.0      7585  664\n",
      "1.0     15772    0\n",
      "2.0      2265    0\n",
      "[[ 8040.6253519    208.3746481 ]\n",
      " [15373.58989576   398.41010424]\n",
      " [ 2207.78475234    57.21524766]]\n",
      "+ implant is correlated to cancer, p_value 0.0011318689547392582\n",
      "cancer       0     1\n",
      "implant             \n",
      "0        52084  1145\n",
      "1         1464    13\n",
      "[[52102.2646876  1126.7353124]\n",
      " [ 1445.7353124    31.2646876]]\n",
      "+ density is correlated to cancer, p_value 0.028570563418425784\n",
      "cancer       0    1\n",
      "density            \n",
      "A         3052   53\n",
      "B        12342  309\n",
      "C        11898  277\n",
      "D         1514   25\n",
      "[[ 3035.04004072    69.95995928]\n",
      " [12365.95541228   285.04458772]\n",
      " [11900.6803529    274.3196471 ]\n",
      " [ 1504.3241941     34.6758059 ]]\n",
      "+ machine_id is correlated to cancer, p_value 9.281428351315432e-18\n",
      "cancer          0    1\n",
      "machine_id            \n",
      "21           8067  154\n",
      "29           8106  161\n",
      "48           8520  179\n",
      "49          22915  614\n",
      "93           1901   14\n",
      "170           900   23\n",
      "190           140    5\n",
      "197            29    0\n",
      "210          1070    0\n",
      "216          1900    8\n",
      "[[ 8046.98036778   174.01963222]\n",
      " [ 8092.00665375   174.99334625]\n",
      " [ 8514.8622089    184.1377911 ]\n",
      " [23030.94527109   498.05472891]\n",
      " [ 1874.46386137    40.53613863]\n",
      " [  903.46221621    19.53778379]\n",
      " [  141.93068402     3.06931598]\n",
      " [   28.3861368      0.6138632 ]\n",
      " [ 1047.35056484    22.64943516]\n",
      " [ 1867.61203524    40.38796476]]\n",
      "+ difficult_negative_case is correlated to cancer, p_value 7.973482226780548e-44\n",
      "cancer                       0     1\n",
      "difficult_negative_case             \n",
      "False                    45843  1158\n",
      "True                      7705     0\n",
      "[[46006.09710087   994.90289913]\n",
      " [ 7541.90289913   163.09710087]]\n"
     ]
    }
   ],
   "source": [
    "for var in [\"site_id\", \"laterality\", \"view\", \"biopsy\", \"invasive\", \"BIRADS\", \"implant\", \"density\", \"machine_id\", \"difficult_negative_case\"]:\n",
    "    crosstable, expected, p = correlation(df, var, \"cancer\")\n",
    "    if p<=0.05:\n",
    "        print(\"+\", var, \"is correlated to cancer, p_value\", p)\n",
    "        print(crosstable)\n",
    "        np.set_printoptions(suppress=True)\n",
    "        print(expected)\n",
    "    else:\n",
    "        print(\"-\", var, \"is NOT correlated to cancer, p_value\", p)"
   ]
  },
  {
   "cell_type": "code",
   "execution_count": 38,
   "id": "e3e26006",
   "metadata": {},
   "outputs": [
    {
     "data": {
      "image/png": "[encoded data removed]",
      "text/plain": [
       "<Figure size 640x480 with 1 Axes>"
      ]
     },
     "metadata": {},
     "output_type": "display_data"
    }
   ],
   "source": [
    "ax = sns.boxplot(x=\"cancer\", y=\"age\", data=df, color='#99c2a2')\n",
    "plt.show()"
   ]
  },
  {
   "cell_type": "code",
   "execution_count": 200,
   "id": "90113b13",
   "metadata": {},
   "outputs": [
    {
     "data": {
      "text/html": [
       "<div>\n",
       "<style scoped>\n",
       "    .dataframe tbody tr th:only-of-type {\n",
       "        vertical-align: middle;\n",
       "    }\n",
       "\n",
       "    .dataframe tbody tr th {\n",
       "        vertical-align: top;\n",
       "    }\n",
       "\n",
       "    .dataframe thead th {\n",
       "        text-align: right;\n",
       "    }\n",
       "</style>\n",
       "<table border=\"1\" class=\"dataframe\">\n",
       "  <thead>\n",
       "    <tr style=\"text-align: right;\">\n",
       "      <th></th>\n",
       "      <th>site_id</th>\n",
       "      <th>patient_id</th>\n",
       "      <th>image_id</th>\n",
       "      <th>laterality</th>\n",
       "      <th>view</th>\n",
       "      <th>age</th>\n",
       "      <th>cancer</th>\n",
       "      <th>biopsy</th>\n",
       "      <th>invasive</th>\n",
       "      <th>BIRADS</th>\n",
       "      <th>implant</th>\n",
       "      <th>density</th>\n",
       "      <th>machine_id</th>\n",
       "      <th>difficult_negative_case</th>\n",
       "      <th>count_pl</th>\n",
       "    </tr>\n",
       "  </thead>\n",
       "  <tbody>\n",
       "    <tr>\n",
       "      <th>87</th>\n",
       "      <td>1</td>\n",
       "      <td>10130</td>\n",
       "      <td>388811999</td>\n",
       "      <td>L</td>\n",
       "      <td>MLO</td>\n",
       "      <td>71.0</td>\n",
       "      <td>0.25</td>\n",
       "      <td>1</td>\n",
       "      <td>1</td>\n",
       "      <td>0.0</td>\n",
       "      <td>0</td>\n",
       "      <td>B</td>\n",
       "      <td>49</td>\n",
       "      <td>False</td>\n",
       "      <td>4</td>\n",
       "    </tr>\n",
       "    <tr>\n",
       "      <th>88</th>\n",
       "      <td>1</td>\n",
       "      <td>10130</td>\n",
       "      <td>613462606</td>\n",
       "      <td>L</td>\n",
       "      <td>CC</td>\n",
       "      <td>71.0</td>\n",
       "      <td>0.25</td>\n",
       "      <td>1</td>\n",
       "      <td>1</td>\n",
       "      <td>0.0</td>\n",
       "      <td>0</td>\n",
       "      <td>B</td>\n",
       "      <td>49</td>\n",
       "      <td>False</td>\n",
       "      <td>4</td>\n",
       "    </tr>\n",
       "    <tr>\n",
       "      <th>89</th>\n",
       "      <td>1</td>\n",
       "      <td>10130</td>\n",
       "      <td>1360338805</td>\n",
       "      <td>L</td>\n",
       "      <td>CC</td>\n",
       "      <td>71.0</td>\n",
       "      <td>0.25</td>\n",
       "      <td>1</td>\n",
       "      <td>1</td>\n",
       "      <td>0.0</td>\n",
       "      <td>0</td>\n",
       "      <td>B</td>\n",
       "      <td>49</td>\n",
       "      <td>False</td>\n",
       "      <td>4</td>\n",
       "    </tr>\n",
       "    <tr>\n",
       "      <th>90</th>\n",
       "      <td>1</td>\n",
       "      <td>10130</td>\n",
       "      <td>1672636630</td>\n",
       "      <td>L</td>\n",
       "      <td>MLO</td>\n",
       "      <td>71.0</td>\n",
       "      <td>0.25</td>\n",
       "      <td>1</td>\n",
       "      <td>1</td>\n",
       "      <td>0.0</td>\n",
       "      <td>0</td>\n",
       "      <td>B</td>\n",
       "      <td>49</td>\n",
       "      <td>False</td>\n",
       "      <td>4</td>\n",
       "    </tr>\n",
       "    <tr>\n",
       "      <th>190</th>\n",
       "      <td>1</td>\n",
       "      <td>10226</td>\n",
       "      <td>461614796</td>\n",
       "      <td>L</td>\n",
       "      <td>MLO</td>\n",
       "      <td>71.0</td>\n",
       "      <td>0.50</td>\n",
       "      <td>1</td>\n",
       "      <td>1</td>\n",
       "      <td>0.0</td>\n",
       "      <td>0</td>\n",
       "      <td>C</td>\n",
       "      <td>49</td>\n",
       "      <td>False</td>\n",
       "      <td>2</td>\n",
       "    </tr>\n",
       "    <tr>\n",
       "      <th>...</th>\n",
       "      <td>...</td>\n",
       "      <td>...</td>\n",
       "      <td>...</td>\n",
       "      <td>...</td>\n",
       "      <td>...</td>\n",
       "      <td>...</td>\n",
       "      <td>...</td>\n",
       "      <td>...</td>\n",
       "      <td>...</td>\n",
       "      <td>...</td>\n",
       "      <td>...</td>\n",
       "      <td>...</td>\n",
       "      <td>...</td>\n",
       "      <td>...</td>\n",
       "      <td>...</td>\n",
       "    </tr>\n",
       "    <tr>\n",
       "      <th>54485</th>\n",
       "      <td>2</td>\n",
       "      <td>9707</td>\n",
       "      <td>1900919592</td>\n",
       "      <td>R</td>\n",
       "      <td>MLO</td>\n",
       "      <td>56.0</td>\n",
       "      <td>0.50</td>\n",
       "      <td>1</td>\n",
       "      <td>1</td>\n",
       "      <td>NaN</td>\n",
       "      <td>0</td>\n",
       "      <td>NaN</td>\n",
       "      <td>21</td>\n",
       "      <td>False</td>\n",
       "      <td>2</td>\n",
       "    </tr>\n",
       "    <tr>\n",
       "      <th>54593</th>\n",
       "      <td>2</td>\n",
       "      <td>9840</td>\n",
       "      <td>111786935</td>\n",
       "      <td>R</td>\n",
       "      <td>MLO</td>\n",
       "      <td>59.0</td>\n",
       "      <td>0.50</td>\n",
       "      <td>1</td>\n",
       "      <td>1</td>\n",
       "      <td>NaN</td>\n",
       "      <td>0</td>\n",
       "      <td>NaN</td>\n",
       "      <td>21</td>\n",
       "      <td>False</td>\n",
       "      <td>2</td>\n",
       "    </tr>\n",
       "    <tr>\n",
       "      <th>54594</th>\n",
       "      <td>2</td>\n",
       "      <td>9840</td>\n",
       "      <td>1559360810</td>\n",
       "      <td>R</td>\n",
       "      <td>CC</td>\n",
       "      <td>59.0</td>\n",
       "      <td>0.50</td>\n",
       "      <td>1</td>\n",
       "      <td>1</td>\n",
       "      <td>NaN</td>\n",
       "      <td>0</td>\n",
       "      <td>NaN</td>\n",
       "      <td>21</td>\n",
       "      <td>False</td>\n",
       "      <td>2</td>\n",
       "    </tr>\n",
       "    <tr>\n",
       "      <th>54595</th>\n",
       "      <td>2</td>\n",
       "      <td>9851</td>\n",
       "      <td>1409270544</td>\n",
       "      <td>L</td>\n",
       "      <td>MLO</td>\n",
       "      <td>58.0</td>\n",
       "      <td>0.50</td>\n",
       "      <td>1</td>\n",
       "      <td>0</td>\n",
       "      <td>NaN</td>\n",
       "      <td>0</td>\n",
       "      <td>NaN</td>\n",
       "      <td>48</td>\n",
       "      <td>False</td>\n",
       "      <td>2</td>\n",
       "    </tr>\n",
       "    <tr>\n",
       "      <th>54596</th>\n",
       "      <td>2</td>\n",
       "      <td>9851</td>\n",
       "      <td>1434430689</td>\n",
       "      <td>L</td>\n",
       "      <td>CC</td>\n",
       "      <td>58.0</td>\n",
       "      <td>0.50</td>\n",
       "      <td>1</td>\n",
       "      <td>0</td>\n",
       "      <td>NaN</td>\n",
       "      <td>0</td>\n",
       "      <td>NaN</td>\n",
       "      <td>48</td>\n",
       "      <td>False</td>\n",
       "      <td>2</td>\n",
       "    </tr>\n",
       "  </tbody>\n",
       "</table>\n",
       "<p>1158 rows × 15 columns</p>\n",
       "</div>"
      ],
      "text/plain": [
       "       site_id  patient_id    image_id laterality view   age  cancer  biopsy  \\\n",
       "87           1       10130   388811999          L  MLO  71.0    0.25       1   \n",
       "88           1       10130   613462606          L   CC  71.0    0.25       1   \n",
       "89           1       10130  1360338805          L   CC  71.0    0.25       1   \n",
       "90           1       10130  1672636630          L  MLO  71.0    0.25       1   \n",
       "190          1       10226   461614796          L  MLO  71.0    0.50       1   \n",
       "...        ...         ...         ...        ...  ...   ...     ...     ...   \n",
       "54485        2        9707  1900919592          R  MLO  56.0    0.50       1   \n",
       "54593        2        9840   111786935          R  MLO  59.0    0.50       1   \n",
       "54594        2        9840  1559360810          R   CC  59.0    0.50       1   \n",
       "54595        2        9851  1409270544          L  MLO  58.0    0.50       1   \n",
       "54596        2        9851  1434430689          L   CC  58.0    0.50       1   \n",
       "\n",
       "       invasive  BIRADS  implant density  machine_id  difficult_negative_case  \\\n",
       "87            1     0.0        0       B          49                    False   \n",
       "88            1     0.0        0       B          49                    False   \n",
       "89            1     0.0        0       B          49                    False   \n",
       "90            1     0.0        0       B          49                    False   \n",
       "190           1     0.0        0       C          49                    False   \n",
       "...         ...     ...      ...     ...         ...                      ...   \n",
       "54485         1     NaN        0     NaN          21                    False   \n",
       "54593         1     NaN        0     NaN          21                    False   \n",
       "54594         1     NaN        0     NaN          21                    False   \n",
       "54595         0     NaN        0     NaN          48                    False   \n",
       "54596         0     NaN        0     NaN          48                    False   \n",
       "\n",
       "       count_pl  \n",
       "87            4  \n",
       "88            4  \n",
       "89            4  \n",
       "90            4  \n",
       "190           2  \n",
       "...         ...  \n",
       "54485         2  \n",
       "54593         2  \n",
       "54594         2  \n",
       "54595         2  \n",
       "54596         2  \n",
       "\n",
       "[1158 rows x 15 columns]"
      ]
     },
     "execution_count": 200,
     "metadata": {},
     "output_type": "execute_result"
    }
   ],
   "source": [
    "dfg = df.groupby([\"patient_id\", \"laterality\"])[\"cancer\"].count().reset_index()\n",
    "new_df = pd.merge(df, dfg, on=[\"patient_id\", \"laterality\"], ).rename(columns={\"cancer_x\": \"cancer\", \"cancer_y\": \"count_pl\"})\n",
    "new_df[\"cancer\"] = new_df[\"cancer\"]/new_df[\"count_pl\"]\n",
    "new_df[new_df[\"cancer\"]>0]"
   ]
  },
  {
   "cell_type": "markdown",
   "id": "a76fa5e8",
   "metadata": {},
   "source": [
    "# 2. BIOPSY, DIFFICULT, BIRADS, CANCER, INVASIVE"
   ]
  },
  {
   "cell_type": "code",
   "execution_count": 178,
   "id": "21f1c658",
   "metadata": {},
   "outputs": [
    {
     "data": {
      "text/html": [
       "<div>\n",
       "<style scoped>\n",
       "    .dataframe tbody tr th:only-of-type {\n",
       "        vertical-align: middle;\n",
       "    }\n",
       "\n",
       "    .dataframe tbody tr th {\n",
       "        vertical-align: top;\n",
       "    }\n",
       "\n",
       "    .dataframe thead th {\n",
       "        text-align: right;\n",
       "    }\n",
       "</style>\n",
       "<table border=\"1\" class=\"dataframe\">\n",
       "  <thead>\n",
       "    <tr style=\"text-align: right;\">\n",
       "      <th></th>\n",
       "      <th>site_id</th>\n",
       "      <th>patient_id</th>\n",
       "      <th>image_id</th>\n",
       "      <th>laterality</th>\n",
       "      <th>view</th>\n",
       "      <th>age</th>\n",
       "      <th>cancer</th>\n",
       "      <th>biopsy</th>\n",
       "      <th>invasive</th>\n",
       "      <th>BIRADS</th>\n",
       "      <th>implant</th>\n",
       "      <th>density</th>\n",
       "      <th>machine_id</th>\n",
       "      <th>difficult_negative_case</th>\n",
       "    </tr>\n",
       "  </thead>\n",
       "  <tbody>\n",
       "    <tr>\n",
       "      <th>0</th>\n",
       "      <td>2</td>\n",
       "      <td>10006</td>\n",
       "      <td>462822612</td>\n",
       "      <td>L</td>\n",
       "      <td>CC</td>\n",
       "      <td>61.0</td>\n",
       "      <td>0</td>\n",
       "      <td>0</td>\n",
       "      <td>0</td>\n",
       "      <td>nan</td>\n",
       "      <td>0</td>\n",
       "      <td>nan</td>\n",
       "      <td>29</td>\n",
       "      <td>False</td>\n",
       "    </tr>\n",
       "    <tr>\n",
       "      <th>1</th>\n",
       "      <td>2</td>\n",
       "      <td>10006</td>\n",
       "      <td>1459541791</td>\n",
       "      <td>L</td>\n",
       "      <td>MLO</td>\n",
       "      <td>61.0</td>\n",
       "      <td>0</td>\n",
       "      <td>0</td>\n",
       "      <td>0</td>\n",
       "      <td>nan</td>\n",
       "      <td>0</td>\n",
       "      <td>nan</td>\n",
       "      <td>29</td>\n",
       "      <td>False</td>\n",
       "    </tr>\n",
       "    <tr>\n",
       "      <th>2</th>\n",
       "      <td>2</td>\n",
       "      <td>10006</td>\n",
       "      <td>1864590858</td>\n",
       "      <td>R</td>\n",
       "      <td>MLO</td>\n",
       "      <td>61.0</td>\n",
       "      <td>0</td>\n",
       "      <td>0</td>\n",
       "      <td>0</td>\n",
       "      <td>nan</td>\n",
       "      <td>0</td>\n",
       "      <td>nan</td>\n",
       "      <td>29</td>\n",
       "      <td>False</td>\n",
       "    </tr>\n",
       "    <tr>\n",
       "      <th>3</th>\n",
       "      <td>2</td>\n",
       "      <td>10006</td>\n",
       "      <td>1874946579</td>\n",
       "      <td>R</td>\n",
       "      <td>CC</td>\n",
       "      <td>61.0</td>\n",
       "      <td>0</td>\n",
       "      <td>0</td>\n",
       "      <td>0</td>\n",
       "      <td>nan</td>\n",
       "      <td>0</td>\n",
       "      <td>nan</td>\n",
       "      <td>29</td>\n",
       "      <td>False</td>\n",
       "    </tr>\n",
       "    <tr>\n",
       "      <th>4</th>\n",
       "      <td>2</td>\n",
       "      <td>10011</td>\n",
       "      <td>220375232</td>\n",
       "      <td>L</td>\n",
       "      <td>CC</td>\n",
       "      <td>55.0</td>\n",
       "      <td>0</td>\n",
       "      <td>0</td>\n",
       "      <td>0</td>\n",
       "      <td>0.0</td>\n",
       "      <td>0</td>\n",
       "      <td>nan</td>\n",
       "      <td>21</td>\n",
       "      <td>True</td>\n",
       "    </tr>\n",
       "  </tbody>\n",
       "</table>\n",
       "</div>"
      ],
      "text/plain": [
       "   site_id  patient_id    image_id laterality view   age  cancer  biopsy  \\\n",
       "0        2       10006   462822612          L   CC  61.0       0       0   \n",
       "1        2       10006  1459541791          L  MLO  61.0       0       0   \n",
       "2        2       10006  1864590858          R  MLO  61.0       0       0   \n",
       "3        2       10006  1874946579          R   CC  61.0       0       0   \n",
       "4        2       10011   220375232          L   CC  55.0       0       0   \n",
       "\n",
       "   invasive BIRADS  implant density  machine_id  difficult_negative_case  \n",
       "0         0    nan        0     nan          29                    False  \n",
       "1         0    nan        0     nan          29                    False  \n",
       "2         0    nan        0     nan          29                    False  \n",
       "3         0    nan        0     nan          29                    False  \n",
       "4         0    0.0        0     nan          21                     True  "
      ]
     },
     "execution_count": 178,
     "metadata": {},
     "output_type": "execute_result"
    }
   ],
   "source": [
    "df_s = df.copy()\n",
    "df_s.loc[:, \"BIRADS\"] = df_s[\"BIRADS\"].astype(str)\n",
    "df_s.loc[:, \"density\"] = df_s[\"density\"].astype(str)\n",
    "df_s.head()"
   ]
  },
  {
   "cell_type": "code",
   "execution_count": 187,
   "id": "d5305ba3",
   "metadata": {},
   "outputs": [
    {
     "name": "stdout",
     "output_type": "stream",
     "text": [
      "True implant\n",
      "True biopsy\n",
      "True difficult_negative_case\n",
      "True BIRADS\n",
      "True invasive\n",
      "True cancer\n",
      "True density\n"
     ]
    }
   ],
   "source": [
    "for c in [ \"implant\", \"biopsy\", \"difficult_negative_case\", \"BIRADS\", \"invasive\", \"cancer\", \"density\"]:\n",
    "    df_g = df_s.groupby([\"patient_id\", \"laterality\"])\n",
    "    df_g = df_g[c].apply(lambda x: (x.values[0]==x).all())\n",
    "    r = df_g.sum()==len(df_g)\n",
    "    if r == False:\n",
    "        print(df_g.sum(), len(df_g), df_s[df_s[\"patient_id\"].isin(df_g[df_g==False].index)])\n",
    "    print(r,c)"
   ]
  },
  {
   "cell_type": "markdown",
   "id": "2d111b06",
   "metadata": {},
   "source": [
    "## 2.1 difficult_negative_case"
   ]
  },
  {
   "cell_type": "code",
   "execution_count": 125,
   "id": "d7934c96",
   "metadata": {},
   "outputs": [
    {
     "data": {
      "image/png": "[encoded data removed]",
      "text/plain": [
       "<Figure size 800x800 with 4 Axes>"
      ]
     },
     "metadata": {},
     "output_type": "display_data"
    }
   ],
   "source": [
    "fig, ax = plt.subplots(2, 2, figsize=(8,8))\n",
    "sns.countplot(data=df_s, x=\"difficult_negative_case\", hue=\"cancer\", ax=ax[0,0])\n",
    "sns.countplot(data=df_s, x=\"difficult_negative_case\", hue=\"biopsy\", ax=ax[0,1])\n",
    "sns.countplot(data=df_s, x=\"difficult_negative_case\", hue=\"BIRADS\", ax=ax[1,0])\n",
    "sns.countplot(data=df_s, x=\"difficult_negative_case\", hue=\"invasive\", ax=ax[1,1])\n",
    "plt.show()"
   ]
  },
  {
   "cell_type": "markdown",
   "id": "8da34a2e",
   "metadata": {},
   "source": [
    "- if **difficult_negative_case=1**  =>   **cancer=0**\n",
    "- if **difficult_negative_case=1**  =>   **invasive=0**\n",
    "- if **difficult_negative_case=1**  =>   **BIRADS=0.0 or NaN**"
   ]
  },
  {
   "cell_type": "markdown",
   "id": "0ac5d016",
   "metadata": {},
   "source": [
    "## 2.2 biopsy"
   ]
  },
  {
   "cell_type": "code",
   "execution_count": 126,
   "id": "4ca4fcfb",
   "metadata": {},
   "outputs": [
    {
     "data": {
      "image/png": "[encoded data removed]",
      "text/plain": [
       "<Figure size 800x800 with 4 Axes>"
      ]
     },
     "metadata": {},
     "output_type": "display_data"
    }
   ],
   "source": [
    "fig, ax = plt.subplots(2, 2, figsize=(8,8))\n",
    "sns.countplot(data=df_s, x=\"biopsy\", hue=\"cancer\", ax=ax[0,0])\n",
    "sns.countplot(data=df_s, x=\"biopsy\", hue=\"difficult_negative_case\", ax=ax[0,1])\n",
    "sns.countplot(data=df_s, x=\"biopsy\", hue=\"BIRADS\", ax=ax[1,0])\n",
    "sns.countplot(data=df_s, x=\"biopsy\", hue=\"invasive\", ax=ax[1,1])\n",
    "plt.show()"
   ]
  },
  {
   "cell_type": "markdown",
   "id": "b177843d",
   "metadata": {},
   "source": [
    "- if **biopsy=0**  =>   **cancer=0**\n",
    "- if **biopsy=0** => **invasive=0**\n",
    "- if **biopsy=1** => **BIRADS=0.0 or nan**"
   ]
  },
  {
   "cell_type": "markdown",
   "id": "3e93eff6",
   "metadata": {},
   "source": [
    "## 2.3 BIRADS"
   ]
  },
  {
   "cell_type": "code",
   "execution_count": 127,
   "id": "6085eeb7",
   "metadata": {},
   "outputs": [
    {
     "data": {
      "image/png": "[encoded data removed]",
      "text/plain": [
       "<Figure size 800x800 with 4 Axes>"
      ]
     },
     "metadata": {},
     "output_type": "display_data"
    }
   ],
   "source": [
    "fig, ax = plt.subplots(2, 2, figsize=(8,8))\n",
    "sns.countplot(data=df_s, x=\"BIRADS\", hue=\"cancer\", ax=ax[0,0])\n",
    "sns.countplot(data=df_s, x=\"BIRADS\", hue=\"difficult_negative_case\", ax=ax[0,1])\n",
    "sns.countplot(data=df_s, x=\"BIRADS\", hue=\"biopsy\", ax=ax[1,0])\n",
    "sns.countplot(data=df_s, x=\"BIRADS\", hue=\"invasive\", ax=ax[1,1])\n",
    "plt.show()"
   ]
  },
  {
   "cell_type": "markdown",
   "id": "52f34d57",
   "metadata": {},
   "source": [
    "- if **BIRADS=1.0**  =>   **cancer=0**\n",
    "- if **BIRADS=2.0**  =>   **cancer=0**\n",
    "- if **BIRADS=1.0**  =>   **difficult_negative_case=0**\n",
    "- if **BIRADS=2.0**  =>   **difficult_negative_case=0**\n",
    "- if **BIRADS=1.0**  =>   **biopsy=0**\n",
    "- if **BIRADS=2.0**  =>   **biopsy=0**\n",
    "- if **BIRADS=1.0**  =>   **invasive=0**\n",
    "- if **BIRADS=2.0**  =>   **invasive=0**"
   ]
  },
  {
   "cell_type": "code",
   "execution_count": 210,
   "id": "4499a447",
   "metadata": {},
   "outputs": [
    {
     "data": {
      "text/plain": [
       "True    1811\n",
       "Name: difficult_negative_case, dtype: int64"
      ]
     },
     "execution_count": 210,
     "metadata": {},
     "output_type": "execute_result"
    }
   ],
   "source": [
    "df_s.loc[(new_df[\"biopsy\"]==1) & (new_df[\"cancer\"]==0),\"difficult_negative_case\"].value_counts()"
   ]
  },
  {
   "cell_type": "code",
   "execution_count": 213,
   "id": "5796c191",
   "metadata": {},
   "outputs": [
    {
     "data": {
      "text/html": [
       "<div>\n",
       "<style scoped>\n",
       "    .dataframe tbody tr th:only-of-type {\n",
       "        vertical-align: middle;\n",
       "    }\n",
       "\n",
       "    .dataframe tbody tr th {\n",
       "        vertical-align: top;\n",
       "    }\n",
       "\n",
       "    .dataframe thead th {\n",
       "        text-align: right;\n",
       "    }\n",
       "</style>\n",
       "<table border=\"1\" class=\"dataframe\">\n",
       "  <thead>\n",
       "    <tr style=\"text-align: right;\">\n",
       "      <th></th>\n",
       "      <th>site_id</th>\n",
       "      <th>patient_id</th>\n",
       "      <th>image_id</th>\n",
       "      <th>laterality</th>\n",
       "      <th>view</th>\n",
       "      <th>age</th>\n",
       "      <th>cancer</th>\n",
       "      <th>biopsy</th>\n",
       "      <th>invasive</th>\n",
       "      <th>BIRADS</th>\n",
       "      <th>implant</th>\n",
       "      <th>density</th>\n",
       "      <th>machine_id</th>\n",
       "      <th>difficult_negative_case</th>\n",
       "    </tr>\n",
       "  </thead>\n",
       "  <tbody>\n",
       "    <tr>\n",
       "      <th>4</th>\n",
       "      <td>2</td>\n",
       "      <td>10011</td>\n",
       "      <td>220375232</td>\n",
       "      <td>L</td>\n",
       "      <td>CC</td>\n",
       "      <td>55.0</td>\n",
       "      <td>0</td>\n",
       "      <td>0</td>\n",
       "      <td>0</td>\n",
       "      <td>0.0</td>\n",
       "      <td>0</td>\n",
       "      <td>nan</td>\n",
       "      <td>21</td>\n",
       "      <td>True</td>\n",
       "    </tr>\n",
       "    <tr>\n",
       "      <th>5</th>\n",
       "      <td>2</td>\n",
       "      <td>10011</td>\n",
       "      <td>270344397</td>\n",
       "      <td>L</td>\n",
       "      <td>MLO</td>\n",
       "      <td>55.0</td>\n",
       "      <td>0</td>\n",
       "      <td>0</td>\n",
       "      <td>0</td>\n",
       "      <td>0.0</td>\n",
       "      <td>0</td>\n",
       "      <td>nan</td>\n",
       "      <td>21</td>\n",
       "      <td>True</td>\n",
       "    </tr>\n",
       "    <tr>\n",
       "      <th>28</th>\n",
       "      <td>1</td>\n",
       "      <td>10049</td>\n",
       "      <td>94335194</td>\n",
       "      <td>R</td>\n",
       "      <td>MLO</td>\n",
       "      <td>52.0</td>\n",
       "      <td>0</td>\n",
       "      <td>0</td>\n",
       "      <td>0</td>\n",
       "      <td>0.0</td>\n",
       "      <td>0</td>\n",
       "      <td>C</td>\n",
       "      <td>49</td>\n",
       "      <td>True</td>\n",
       "    </tr>\n",
       "    <tr>\n",
       "      <th>29</th>\n",
       "      <td>1</td>\n",
       "      <td>10049</td>\n",
       "      <td>1207499426</td>\n",
       "      <td>R</td>\n",
       "      <td>MLO</td>\n",
       "      <td>52.0</td>\n",
       "      <td>0</td>\n",
       "      <td>0</td>\n",
       "      <td>0</td>\n",
       "      <td>0.0</td>\n",
       "      <td>0</td>\n",
       "      <td>C</td>\n",
       "      <td>49</td>\n",
       "      <td>True</td>\n",
       "    </tr>\n",
       "    <tr>\n",
       "      <th>30</th>\n",
       "      <td>1</td>\n",
       "      <td>10049</td>\n",
       "      <td>1351270472</td>\n",
       "      <td>R</td>\n",
       "      <td>CC</td>\n",
       "      <td>52.0</td>\n",
       "      <td>0</td>\n",
       "      <td>0</td>\n",
       "      <td>0</td>\n",
       "      <td>0.0</td>\n",
       "      <td>0</td>\n",
       "      <td>C</td>\n",
       "      <td>49</td>\n",
       "      <td>True</td>\n",
       "    </tr>\n",
       "    <tr>\n",
       "      <th>...</th>\n",
       "      <td>...</td>\n",
       "      <td>...</td>\n",
       "      <td>...</td>\n",
       "      <td>...</td>\n",
       "      <td>...</td>\n",
       "      <td>...</td>\n",
       "      <td>...</td>\n",
       "      <td>...</td>\n",
       "      <td>...</td>\n",
       "      <td>...</td>\n",
       "      <td>...</td>\n",
       "      <td>...</td>\n",
       "      <td>...</td>\n",
       "      <td>...</td>\n",
       "    </tr>\n",
       "    <tr>\n",
       "      <th>54672</th>\n",
       "      <td>2</td>\n",
       "      <td>9953</td>\n",
       "      <td>1640274067</td>\n",
       "      <td>R</td>\n",
       "      <td>MLO</td>\n",
       "      <td>60.0</td>\n",
       "      <td>0</td>\n",
       "      <td>0</td>\n",
       "      <td>0</td>\n",
       "      <td>0.0</td>\n",
       "      <td>0</td>\n",
       "      <td>nan</td>\n",
       "      <td>48</td>\n",
       "      <td>True</td>\n",
       "    </tr>\n",
       "    <tr>\n",
       "      <th>54673</th>\n",
       "      <td>2</td>\n",
       "      <td>9954</td>\n",
       "      <td>21064441</td>\n",
       "      <td>L</td>\n",
       "      <td>MLO</td>\n",
       "      <td>48.0</td>\n",
       "      <td>0</td>\n",
       "      <td>0</td>\n",
       "      <td>0</td>\n",
       "      <td>0.0</td>\n",
       "      <td>0</td>\n",
       "      <td>nan</td>\n",
       "      <td>48</td>\n",
       "      <td>True</td>\n",
       "    </tr>\n",
       "    <tr>\n",
       "      <th>54674</th>\n",
       "      <td>2</td>\n",
       "      <td>9954</td>\n",
       "      <td>2043422318</td>\n",
       "      <td>L</td>\n",
       "      <td>CC</td>\n",
       "      <td>48.0</td>\n",
       "      <td>0</td>\n",
       "      <td>0</td>\n",
       "      <td>0</td>\n",
       "      <td>0.0</td>\n",
       "      <td>0</td>\n",
       "      <td>nan</td>\n",
       "      <td>48</td>\n",
       "      <td>True</td>\n",
       "    </tr>\n",
       "    <tr>\n",
       "      <th>54704</th>\n",
       "      <td>1</td>\n",
       "      <td>9989</td>\n",
       "      <td>398038886</td>\n",
       "      <td>R</td>\n",
       "      <td>MLO</td>\n",
       "      <td>60.0</td>\n",
       "      <td>0</td>\n",
       "      <td>0</td>\n",
       "      <td>0</td>\n",
       "      <td>0.0</td>\n",
       "      <td>0</td>\n",
       "      <td>C</td>\n",
       "      <td>216</td>\n",
       "      <td>True</td>\n",
       "    </tr>\n",
       "    <tr>\n",
       "      <th>54705</th>\n",
       "      <td>1</td>\n",
       "      <td>9989</td>\n",
       "      <td>439796429</td>\n",
       "      <td>R</td>\n",
       "      <td>CC</td>\n",
       "      <td>60.0</td>\n",
       "      <td>0</td>\n",
       "      <td>0</td>\n",
       "      <td>0</td>\n",
       "      <td>0.0</td>\n",
       "      <td>0</td>\n",
       "      <td>C</td>\n",
       "      <td>216</td>\n",
       "      <td>True</td>\n",
       "    </tr>\n",
       "  </tbody>\n",
       "</table>\n",
       "<p>5894 rows × 14 columns</p>\n",
       "</div>"
      ],
      "text/plain": [
       "       site_id  patient_id    image_id laterality view   age  cancer  biopsy  \\\n",
       "4            2       10011   220375232          L   CC  55.0       0       0   \n",
       "5            2       10011   270344397          L  MLO  55.0       0       0   \n",
       "28           1       10049    94335194          R  MLO  52.0       0       0   \n",
       "29           1       10049  1207499426          R  MLO  52.0       0       0   \n",
       "30           1       10049  1351270472          R   CC  52.0       0       0   \n",
       "...        ...         ...         ...        ...  ...   ...     ...     ...   \n",
       "54672        2        9953  1640274067          R  MLO  60.0       0       0   \n",
       "54673        2        9954    21064441          L  MLO  48.0       0       0   \n",
       "54674        2        9954  2043422318          L   CC  48.0       0       0   \n",
       "54704        1        9989   398038886          R  MLO  60.0       0       0   \n",
       "54705        1        9989   439796429          R   CC  60.0       0       0   \n",
       "\n",
       "       invasive BIRADS  implant density  machine_id  difficult_negative_case  \n",
       "4             0    0.0        0     nan          21                     True  \n",
       "5             0    0.0        0     nan          21                     True  \n",
       "28            0    0.0        0       C          49                     True  \n",
       "29            0    0.0        0       C          49                     True  \n",
       "30            0    0.0        0       C          49                     True  \n",
       "...         ...    ...      ...     ...         ...                      ...  \n",
       "54672         0    0.0        0     nan          48                     True  \n",
       "54673         0    0.0        0     nan          48                     True  \n",
       "54674         0    0.0        0     nan          48                     True  \n",
       "54704         0    0.0        0       C         216                     True  \n",
       "54705         0    0.0        0       C         216                     True  \n",
       "\n",
       "[5894 rows x 14 columns]"
      ]
     },
     "execution_count": 213,
     "metadata": {},
     "output_type": "execute_result"
    }
   ],
   "source": [
    "df_s.loc[(new_df[\"biopsy\"]==0) & (new_df[\"difficult_negative_case\"]==True), :]"
   ]
  },
  {
   "cell_type": "markdown",
   "id": "69785ee7",
   "metadata": {},
   "source": [
    "## 2.4 invasive"
   ]
  },
  {
   "cell_type": "code",
   "execution_count": 129,
   "id": "63a02e9e",
   "metadata": {},
   "outputs": [
    {
     "data": {
      "image/png": "[encoded data removed]",
      "text/plain": [
       "<Figure size 800x800 with 4 Axes>"
      ]
     },
     "metadata": {},
     "output_type": "display_data"
    }
   ],
   "source": [
    "fig, ax = plt.subplots(2, 2, figsize=(8,8))\n",
    "sns.countplot(data=df_s, x=\"invasive\", hue=\"cancer\", ax=ax[0,0])\n",
    "sns.countplot(data=df_s, x=\"invasive\", hue=\"difficult_negative_case\", ax=ax[0,1])\n",
    "sns.countplot(data=df_s, x=\"invasive\", hue=\"biopsy\", ax=ax[1,0])\n",
    "sns.countplot(data=df_s, x=\"invasive\", hue=\"BIRADS\", ax=ax[1,1])\n",
    "plt.show()"
   ]
  },
  {
   "cell_type": "markdown",
   "id": "c9a7cb75",
   "metadata": {},
   "source": [
    "- if **invasive=1**  =>  **cancer=1**\n",
    "- if **invasive=1**  =>  **difficult_negative_case=0**\n",
    "- if **invasive=1**  =>  **biopsy=1**\n",
    "- if **invasive=1**  =>  **BIRADS=0.0 or NaN**"
   ]
  },
  {
   "cell_type": "markdown",
   "id": "8e94f1fd",
   "metadata": {},
   "source": [
    "## 3.5 cancer"
   ]
  },
  {
   "cell_type": "code",
   "execution_count": 133,
   "id": "b9b79e62",
   "metadata": {},
   "outputs": [
    {
     "data": {
      "image/png": "[encoded data removed]",
      "text/plain": [
       "<Figure size 800x800 with 4 Axes>"
      ]
     },
     "metadata": {},
     "output_type": "display_data"
    }
   ],
   "source": [
    "fig, ax = plt.subplots(2, 2, figsize=(8,8))\n",
    "sns.countplot(data=df_s, x=\"cancer\", hue=\"invasive\", ax=ax[0,0])\n",
    "sns.countplot(data=df_s, x=\"cancer\", hue=\"difficult_negative_case\", ax=ax[0,1])\n",
    "sns.countplot(data=df_s, x=\"cancer\", hue=\"biopsy\", ax=ax[1,0])\n",
    "sns.countplot(data=df_s, x=\"cancer\", hue=\"BIRADS\", ax=ax[1,1])\n",
    "plt.show()"
   ]
  },
  {
   "cell_type": "markdown",
   "id": "b32b298f",
   "metadata": {},
   "source": [
    "- if **cancer=o**  =>  **invasive=0**\n",
    "- if **cancer=1**  =>  **difficult_negative_case=0**\n",
    "- if **cancer=1**  =>  **biopsy=1**\n",
    "- if **cancer=1**  =>  **BIRADS=0.0 or NaN**"
   ]
  },
  {
   "cell_type": "markdown",
   "id": "e2da4f48",
   "metadata": {},
   "source": [
    "## 3.6 Results"
   ]
  },
  {
   "cell_type": "markdown",
   "id": "430af623",
   "metadata": {},
   "source": [
    "- if **difficult_negative_case=1**  =>   **cancer=0**\n",
    "- if **difficult_negative_case=1**  =>   **invasive=0**\n",
    "- if **difficult_negative_case=1**  =>   **BIRADS=0.0 or NaN**\n",
    "- if **biopsy=0**  =>   **cancer=0**\n",
    "- if **biopsy=0** => **invasive=0**\n",
    "- if **biopsy=1** => **BIRADS=0.0 or nan**\n",
    "- if **BIRADS=1.0**  =>   **cancer=0**\n",
    "- if **BIRADS=2.0**  =>   **cancer=0**\n",
    "- if **BIRADS=1.0**  =>   **difficult_negative_case=0**\n",
    "- if **BIRADS=2.0**  =>   **difficult_negative_case=0**\n",
    "- if **BIRADS=1.0**  =>   **biopsy=0**\n",
    "- if **BIRADS=2.0**  =>   **biopsy=0**\n",
    "- if **BIRADS=1.0**  =>   **invasive=0**\n",
    "- if **BIRADS=2.0**  =>   **invasive=0**\n",
    "- if **invasive=1**  =>  **cancer=1**\n",
    "- if **invasive=1**  =>  **difficult_negative_case=0**\n",
    "- if **invasive=1**  =>  **biopsy=1**\n",
    "- if **invasive=1**  =>  **BIRADS=0.0 or NaN**\n",
    "- if **cancer=o**  =>  **invasive=0**\n",
    "- if **cancer=1**  =>  **difficult_negative_case=0**\n",
    "- if **cancer=1**  =>  **biopsy=1**\n",
    "- if **cancer=1**  =>  **BIRADS=0.0 or NaN**"
   ]
  },
  {
   "cell_type": "code",
   "execution_count": null,
   "id": "dc159921",
   "metadata": {},
   "outputs": [],
   "source": []
  },
  {
   "cell_type": "code",
   "execution_count": null,
   "id": "96a06046",
   "metadata": {},
   "outputs": [],
   "source": []
  },
  {
   "cell_type": "code",
   "execution_count": null,
   "id": "f27e54db",
   "metadata": {},
   "outputs": [],
   "source": []
  },
  {
   "cell_type": "code",
   "execution_count": null,
   "id": "da5ffb43",
   "metadata": {},
   "outputs": [],
   "source": []
  },
  {
   "cell_type": "code",
   "execution_count": 7,
   "id": "c23de8b1",
   "metadata": {},
   "outputs": [
    {
     "data": {
      "text/plain": [
       "array([nan, 'C', 'D', 'B', 'A'], dtype=object)"
      ]
     },
     "execution_count": 7,
     "metadata": {},
     "output_type": "execute_result"
    }
   ],
   "source": [
    "df[\"density\"].fillna(df[\"density\"].value_count().max().index)"
   ]
  },
  {
   "cell_type": "code",
   "execution_count": 4,
   "id": "f62eca6b",
   "metadata": {},
   "outputs": [],
   "source": [
    "df_pos = df[df[\"cancer\"]==1]"
   ]
  },
  {
   "cell_type": "code",
   "execution_count": 13,
   "id": "74d14c8b",
   "metadata": {},
   "outputs": [],
   "source": [
    "files = df_pos[\"patient_id\"].astype(str)+\"_\"+df_pos[\"image_id\"].astype(str)+\".png\"\n",
    "for f in files:\n",
    "    plt.imshow(plt.open(J(root, f)))"
   ]
  },
  {
   "cell_type": "code",
   "execution_count": 3,
   "id": "d898a7d7",
   "metadata": {},
   "outputs": [
    {
     "data": {
      "text/plain": [
       "patient_id\n",
       "5        0\n",
       "25       0\n",
       "28       0\n",
       "30       0\n",
       "33       0\n",
       "        ..\n",
       "65518    0\n",
       "65525    0\n",
       "65526    0\n",
       "65530    0\n",
       "65534    0\n",
       "Name: cancer, Length: 11913, dtype: int64"
      ]
     },
     "execution_count": 3,
     "metadata": {},
     "output_type": "execute_result"
    }
   ],
   "source": [
    "df.groupby(\"patient_id\")[\"cancer\"].apply(lambda x: x.sum()>0).astype(int)"
   ]
  },
  {
   "cell_type": "code",
   "execution_count": 3,
   "id": "639ced39",
   "metadata": {},
   "outputs": [],
   "source": [
    "p1 = df[df.cancer==1][\"patient_id\"]\n",
    "p2 = df[df.cancer==0][\"patient_id\"]"
   ]
  },
  {
   "cell_type": "code",
   "execution_count": 4,
   "id": "80caad71",
   "metadata": {},
   "outputs": [
    {
     "name": "stdout",
     "output_type": "stream",
     "text": [
      "1158 53548 480\n"
     ]
    }
   ],
   "source": [
    "print(len(p1), len(p2), len(set(p1.values).intersection(set(p2.values))))"
   ]
  },
  {
   "cell_type": "code",
   "execution_count": 5,
   "id": "c75d0c7e",
   "metadata": {},
   "outputs": [
    {
     "data": {
      "text/html": [
       "<div>\n",
       "<style scoped>\n",
       "    .dataframe tbody tr th:only-of-type {\n",
       "        vertical-align: middle;\n",
       "    }\n",
       "\n",
       "    .dataframe tbody tr th {\n",
       "        vertical-align: top;\n",
       "    }\n",
       "\n",
       "    .dataframe thead th {\n",
       "        text-align: right;\n",
       "    }\n",
       "</style>\n",
       "<table border=\"1\" class=\"dataframe\">\n",
       "  <thead>\n",
       "    <tr style=\"text-align: right;\">\n",
       "      <th></th>\n",
       "      <th>site_id</th>\n",
       "      <th>patient_id</th>\n",
       "      <th>image_id</th>\n",
       "      <th>laterality</th>\n",
       "      <th>view</th>\n",
       "      <th>age</th>\n",
       "      <th>cancer</th>\n",
       "      <th>biopsy</th>\n",
       "      <th>invasive</th>\n",
       "      <th>BIRADS</th>\n",
       "      <th>implant</th>\n",
       "      <th>density</th>\n",
       "      <th>machine_id</th>\n",
       "      <th>difficult_negative_case</th>\n",
       "    </tr>\n",
       "  </thead>\n",
       "  <tbody>\n",
       "    <tr>\n",
       "      <th>4</th>\n",
       "      <td>2</td>\n",
       "      <td>10011</td>\n",
       "      <td>220375232</td>\n",
       "      <td>L</td>\n",
       "      <td>CC</td>\n",
       "      <td>55.0</td>\n",
       "      <td>0</td>\n",
       "      <td>0</td>\n",
       "      <td>0</td>\n",
       "      <td>0.0</td>\n",
       "      <td>0</td>\n",
       "      <td>NaN</td>\n",
       "      <td>21</td>\n",
       "      <td>True</td>\n",
       "    </tr>\n",
       "    <tr>\n",
       "      <th>5</th>\n",
       "      <td>2</td>\n",
       "      <td>10011</td>\n",
       "      <td>270344397</td>\n",
       "      <td>L</td>\n",
       "      <td>MLO</td>\n",
       "      <td>55.0</td>\n",
       "      <td>0</td>\n",
       "      <td>0</td>\n",
       "      <td>0</td>\n",
       "      <td>0.0</td>\n",
       "      <td>0</td>\n",
       "      <td>NaN</td>\n",
       "      <td>21</td>\n",
       "      <td>True</td>\n",
       "    </tr>\n",
       "    <tr>\n",
       "      <th>28</th>\n",
       "      <td>1</td>\n",
       "      <td>10049</td>\n",
       "      <td>94335194</td>\n",
       "      <td>R</td>\n",
       "      <td>MLO</td>\n",
       "      <td>52.0</td>\n",
       "      <td>0</td>\n",
       "      <td>0</td>\n",
       "      <td>0</td>\n",
       "      <td>0.0</td>\n",
       "      <td>0</td>\n",
       "      <td>C</td>\n",
       "      <td>49</td>\n",
       "      <td>True</td>\n",
       "    </tr>\n",
       "    <tr>\n",
       "      <th>29</th>\n",
       "      <td>1</td>\n",
       "      <td>10049</td>\n",
       "      <td>1207499426</td>\n",
       "      <td>R</td>\n",
       "      <td>MLO</td>\n",
       "      <td>52.0</td>\n",
       "      <td>0</td>\n",
       "      <td>0</td>\n",
       "      <td>0</td>\n",
       "      <td>0.0</td>\n",
       "      <td>0</td>\n",
       "      <td>C</td>\n",
       "      <td>49</td>\n",
       "      <td>True</td>\n",
       "    </tr>\n",
       "    <tr>\n",
       "      <th>30</th>\n",
       "      <td>1</td>\n",
       "      <td>10049</td>\n",
       "      <td>1351270472</td>\n",
       "      <td>R</td>\n",
       "      <td>CC</td>\n",
       "      <td>52.0</td>\n",
       "      <td>0</td>\n",
       "      <td>0</td>\n",
       "      <td>0</td>\n",
       "      <td>0.0</td>\n",
       "      <td>0</td>\n",
       "      <td>C</td>\n",
       "      <td>49</td>\n",
       "      <td>True</td>\n",
       "    </tr>\n",
       "    <tr>\n",
       "      <th>...</th>\n",
       "      <td>...</td>\n",
       "      <td>...</td>\n",
       "      <td>...</td>\n",
       "      <td>...</td>\n",
       "      <td>...</td>\n",
       "      <td>...</td>\n",
       "      <td>...</td>\n",
       "      <td>...</td>\n",
       "      <td>...</td>\n",
       "      <td>...</td>\n",
       "      <td>...</td>\n",
       "      <td>...</td>\n",
       "      <td>...</td>\n",
       "      <td>...</td>\n",
       "    </tr>\n",
       "    <tr>\n",
       "      <th>54672</th>\n",
       "      <td>2</td>\n",
       "      <td>9953</td>\n",
       "      <td>1640274067</td>\n",
       "      <td>R</td>\n",
       "      <td>MLO</td>\n",
       "      <td>60.0</td>\n",
       "      <td>0</td>\n",
       "      <td>0</td>\n",
       "      <td>0</td>\n",
       "      <td>0.0</td>\n",
       "      <td>0</td>\n",
       "      <td>NaN</td>\n",
       "      <td>48</td>\n",
       "      <td>True</td>\n",
       "    </tr>\n",
       "    <tr>\n",
       "      <th>54673</th>\n",
       "      <td>2</td>\n",
       "      <td>9954</td>\n",
       "      <td>21064441</td>\n",
       "      <td>L</td>\n",
       "      <td>MLO</td>\n",
       "      <td>48.0</td>\n",
       "      <td>0</td>\n",
       "      <td>0</td>\n",
       "      <td>0</td>\n",
       "      <td>0.0</td>\n",
       "      <td>0</td>\n",
       "      <td>NaN</td>\n",
       "      <td>48</td>\n",
       "      <td>True</td>\n",
       "    </tr>\n",
       "    <tr>\n",
       "      <th>54674</th>\n",
       "      <td>2</td>\n",
       "      <td>9954</td>\n",
       "      <td>2043422318</td>\n",
       "      <td>L</td>\n",
       "      <td>CC</td>\n",
       "      <td>48.0</td>\n",
       "      <td>0</td>\n",
       "      <td>0</td>\n",
       "      <td>0</td>\n",
       "      <td>0.0</td>\n",
       "      <td>0</td>\n",
       "      <td>NaN</td>\n",
       "      <td>48</td>\n",
       "      <td>True</td>\n",
       "    </tr>\n",
       "    <tr>\n",
       "      <th>54704</th>\n",
       "      <td>1</td>\n",
       "      <td>9989</td>\n",
       "      <td>398038886</td>\n",
       "      <td>R</td>\n",
       "      <td>MLO</td>\n",
       "      <td>60.0</td>\n",
       "      <td>0</td>\n",
       "      <td>0</td>\n",
       "      <td>0</td>\n",
       "      <td>0.0</td>\n",
       "      <td>0</td>\n",
       "      <td>C</td>\n",
       "      <td>216</td>\n",
       "      <td>True</td>\n",
       "    </tr>\n",
       "    <tr>\n",
       "      <th>54705</th>\n",
       "      <td>1</td>\n",
       "      <td>9989</td>\n",
       "      <td>439796429</td>\n",
       "      <td>R</td>\n",
       "      <td>CC</td>\n",
       "      <td>60.0</td>\n",
       "      <td>0</td>\n",
       "      <td>0</td>\n",
       "      <td>0</td>\n",
       "      <td>0.0</td>\n",
       "      <td>0</td>\n",
       "      <td>C</td>\n",
       "      <td>216</td>\n",
       "      <td>True</td>\n",
       "    </tr>\n",
       "  </tbody>\n",
       "</table>\n",
       "<p>7705 rows × 14 columns</p>\n",
       "</div>"
      ],
      "text/plain": [
       "       site_id  patient_id    image_id laterality view   age  cancer  biopsy  \\\n",
       "4            2       10011   220375232          L   CC  55.0       0       0   \n",
       "5            2       10011   270344397          L  MLO  55.0       0       0   \n",
       "28           1       10049    94335194          R  MLO  52.0       0       0   \n",
       "29           1       10049  1207499426          R  MLO  52.0       0       0   \n",
       "30           1       10049  1351270472          R   CC  52.0       0       0   \n",
       "...        ...         ...         ...        ...  ...   ...     ...     ...   \n",
       "54672        2        9953  1640274067          R  MLO  60.0       0       0   \n",
       "54673        2        9954    21064441          L  MLO  48.0       0       0   \n",
       "54674        2        9954  2043422318          L   CC  48.0       0       0   \n",
       "54704        1        9989   398038886          R  MLO  60.0       0       0   \n",
       "54705        1        9989   439796429          R   CC  60.0       0       0   \n",
       "\n",
       "       invasive  BIRADS  implant density  machine_id  difficult_negative_case  \n",
       "4             0     0.0        0     NaN          21                     True  \n",
       "5             0     0.0        0     NaN          21                     True  \n",
       "28            0     0.0        0       C          49                     True  \n",
       "29            0     0.0        0       C          49                     True  \n",
       "30            0     0.0        0       C          49                     True  \n",
       "...         ...     ...      ...     ...         ...                      ...  \n",
       "54672         0     0.0        0     NaN          48                     True  \n",
       "54673         0     0.0        0     NaN          48                     True  \n",
       "54674         0     0.0        0     NaN          48                     True  \n",
       "54704         0     0.0        0       C         216                     True  \n",
       "54705         0     0.0        0       C         216                     True  \n",
       "\n",
       "[7705 rows x 14 columns]"
      ]
     },
     "execution_count": 5,
     "metadata": {},
     "output_type": "execute_result"
    }
   ],
   "source": [
    "df[df[\"difficult_negative_case\"]==True]"
   ]
  },
  {
   "cell_type": "code",
   "execution_count": 6,
   "id": "c097207d",
   "metadata": {},
   "outputs": [
    {
     "data": {
      "text/html": [
       "<div>\n",
       "<style scoped>\n",
       "    .dataframe tbody tr th:only-of-type {\n",
       "        vertical-align: middle;\n",
       "    }\n",
       "\n",
       "    .dataframe tbody tr th {\n",
       "        vertical-align: top;\n",
       "    }\n",
       "\n",
       "    .dataframe thead th {\n",
       "        text-align: right;\n",
       "    }\n",
       "</style>\n",
       "<table border=\"1\" class=\"dataframe\">\n",
       "  <thead>\n",
       "    <tr style=\"text-align: right;\">\n",
       "      <th></th>\n",
       "      <th>site_id</th>\n",
       "      <th>patient_id</th>\n",
       "      <th>image_id</th>\n",
       "      <th>laterality</th>\n",
       "      <th>view</th>\n",
       "      <th>age</th>\n",
       "      <th>cancer</th>\n",
       "      <th>biopsy</th>\n",
       "      <th>invasive</th>\n",
       "      <th>BIRADS</th>\n",
       "      <th>implant</th>\n",
       "      <th>density</th>\n",
       "      <th>machine_id</th>\n",
       "      <th>difficult_negative_case</th>\n",
       "    </tr>\n",
       "  </thead>\n",
       "  <tbody>\n",
       "    <tr>\n",
       "      <th>37282</th>\n",
       "      <td>2</td>\n",
       "      <td>5</td>\n",
       "      <td>640805896</td>\n",
       "      <td>L</td>\n",
       "      <td>MLO</td>\n",
       "      <td>68.0</td>\n",
       "      <td>0</td>\n",
       "      <td>0</td>\n",
       "      <td>0</td>\n",
       "      <td>0.0</td>\n",
       "      <td>0</td>\n",
       "      <td>NaN</td>\n",
       "      <td>21</td>\n",
       "      <td>True</td>\n",
       "    </tr>\n",
       "    <tr>\n",
       "      <th>37283</th>\n",
       "      <td>2</td>\n",
       "      <td>5</td>\n",
       "      <td>1351088028</td>\n",
       "      <td>L</td>\n",
       "      <td>CC</td>\n",
       "      <td>68.0</td>\n",
       "      <td>0</td>\n",
       "      <td>0</td>\n",
       "      <td>0</td>\n",
       "      <td>0.0</td>\n",
       "      <td>0</td>\n",
       "      <td>NaN</td>\n",
       "      <td>21</td>\n",
       "      <td>True</td>\n",
       "    </tr>\n",
       "    <tr>\n",
       "      <th>37284</th>\n",
       "      <td>2</td>\n",
       "      <td>5</td>\n",
       "      <td>940388076</td>\n",
       "      <td>R</td>\n",
       "      <td>CC</td>\n",
       "      <td>68.0</td>\n",
       "      <td>0</td>\n",
       "      <td>0</td>\n",
       "      <td>0</td>\n",
       "      <td>NaN</td>\n",
       "      <td>0</td>\n",
       "      <td>NaN</td>\n",
       "      <td>21</td>\n",
       "      <td>False</td>\n",
       "    </tr>\n",
       "    <tr>\n",
       "      <th>37285</th>\n",
       "      <td>2</td>\n",
       "      <td>5</td>\n",
       "      <td>1633417959</td>\n",
       "      <td>R</td>\n",
       "      <td>MLO</td>\n",
       "      <td>68.0</td>\n",
       "      <td>0</td>\n",
       "      <td>0</td>\n",
       "      <td>0</td>\n",
       "      <td>NaN</td>\n",
       "      <td>0</td>\n",
       "      <td>NaN</td>\n",
       "      <td>21</td>\n",
       "      <td>False</td>\n",
       "    </tr>\n",
       "  </tbody>\n",
       "</table>\n",
       "</div>"
      ],
      "text/plain": [
       "       site_id  patient_id    image_id laterality view   age  cancer  biopsy  \\\n",
       "37282        2           5   640805896          L  MLO  68.0       0       0   \n",
       "37283        2           5  1351088028          L   CC  68.0       0       0   \n",
       "37284        2           5   940388076          R   CC  68.0       0       0   \n",
       "37285        2           5  1633417959          R  MLO  68.0       0       0   \n",
       "\n",
       "       invasive  BIRADS  implant density  machine_id  difficult_negative_case  \n",
       "37282         0     0.0        0     NaN          21                     True  \n",
       "37283         0     0.0        0     NaN          21                     True  \n",
       "37284         0     NaN        0     NaN          21                    False  \n",
       "37285         0     NaN        0     NaN          21                    False  "
      ]
     },
     "execution_count": 6,
     "metadata": {},
     "output_type": "execute_result"
    }
   ],
   "source": [
    "df[df[\"patient_id\"]==5]"
   ]
  },
  {
   "cell_type": "code",
   "execution_count": 15,
   "id": "2d874f77",
   "metadata": {},
   "outputs": [
    {
     "data": {
      "text/plain": [
       "<AxesSubplot: xlabel='image_id', ylabel='Count'>"
      ]
     },
     "execution_count": 15,
     "metadata": {},
     "output_type": "execute_result"
    },
    {
     "data": {
      "image/png": "[encoded data removed]",
      "text/plain": [
       "<Figure size 640x480 with 1 Axes>"
      ]
     },
     "metadata": {},
     "output_type": "display_data"
    }
   ],
   "source": [
    "leak = pd.concat([df.groupby(\"patient_id\")[\"image_id\"].count(), df.groupby(\"patient_id\")[\"cancer\"].any()], axis=1)\n",
    "sns.histplot(leak, x=\"image_id\", hue=\"cancer\")"
   ]
  },
  {
   "cell_type": "code",
   "execution_count": 22,
   "id": "af4b911b",
   "metadata": {},
   "outputs": [
    {
     "name": "stdout",
     "output_type": "stream",
     "text": [
      "5 0.05036785512167515\n",
      "6 0.04926108374384237\n",
      "7 0.06521739130434782\n",
      "8 0.034934497816593885\n",
      "9 0.0707070707070707\n",
      "10 0.018867924528301886\n",
      "11 0.0\n",
      "12 0.0\n",
      "13 0.0\n",
      "14 0.0\n"
     ]
    }
   ],
   "source": [
    "for nc in range(5, 15):\n",
    "    lsel = leak[leak.image_id==nc]\n",
    "    print(nc, len(lsel[lsel.cancer])/len(lsel))"
   ]
  },
  {
   "cell_type": "code",
   "execution_count": 84,
   "id": "e0470b7f",
   "metadata": {},
   "outputs": [
    {
     "data": {
      "text/plain": [
       "patient_id\n",
       "106      0.5\n",
       "236      0.4\n",
       "283      0.5\n",
       "500      0.5\n",
       "729      0.5\n",
       "        ... \n",
       "65222    0.6\n",
       "65224    0.4\n",
       "65244    0.4\n",
       "65427    0.5\n",
       "65492    0.5\n",
       "Name: p, Length: 486, dtype: float64"
      ]
     },
     "execution_count": 84,
     "metadata": {},
     "output_type": "execute_result"
    }
   ],
   "source": [
    "df_prob = pd.concat([df.groupby(\"patient_id\")[\"image_id\"].count(),\n",
    "                     df.groupby(\"patient_id\")[\"cancer\"].sum(),\n",
    "                     df.groupby(\"patient_id\")[\"cancer\"].any()], keys=[\"image_id\", \"pos_cancer\", \"cancer\"], axis=1)\n",
    "df_prob[\"p\"] = 0\n",
    "df_prob.loc[df_prob[\"cancer\"]==1, \"p\"] = df_prob[df_prob[\"cancer\"]==1][\"pos_cancer\"]/df_prob[df_prob[\"cancer\"]==1][\"image_id\"]\n",
    "df_prob[df_prob[\"cancer\"]==1][\"p\"]"
   ]
  },
  {
   "cell_type": "markdown",
   "id": "33bc53f7",
   "metadata": {},
   "source": [
    "# Check cancer distribution"
   ]
  },
  {
   "cell_type": "code",
   "execution_count": 18,
   "id": "f77567fd",
   "metadata": {},
   "outputs": [],
   "source": [
    "def countplot(x, hue=\"cancer\"):\n",
    "    df_new = df.copy()\n",
    "    df_new[x].fillna(\"nan\", inplace=True)\n",
    "    df_new[hue].fillna(\"nan\", inplace=True)\n",
    "    ax=sns.countplot(df_new, x=x, hue=hue)\n",
    "    for p in ax.patches:\n",
    "        ax.annotate(f'{p.get_height()}', (p.get_x()+0.2, p.get_height()), ha='center', va='top', color='black', size=10)"
   ]
  },
  {
   "cell_type": "code",
   "execution_count": 21,
   "id": "5afa6a2a",
   "metadata": {},
   "outputs": [
    {
     "data": {
      "image/png": "[encoded data removed]",
      "text/plain": [
       "<Figure size 640x480 with 1 Axes>"
      ]
     },
     "metadata": {},
     "output_type": "display_data"
    }
   ],
   "source": [
    "countplot(\"difficult_negative_case\", \"BIRADS\")"
   ]
  },
  {
   "cell_type": "code",
   "execution_count": 5,
   "id": "5e8c4251",
   "metadata": {},
   "outputs": [
    {
     "data": {
      "image/png": "[encoded data removed]",
      "text/plain": [
       "<Figure size 640x480 with 1 Axes>"
      ]
     },
     "metadata": {},
     "output_type": "display_data"
    }
   ],
   "source": [
    "countplot(\"laterality\")"
   ]
  },
  {
   "cell_type": "code",
   "execution_count": 6,
   "id": "14bea5bf",
   "metadata": {},
   "outputs": [
    {
     "data": {
      "image/png": "[encoded data removed]",
      "text/plain": [
       "<Figure size 640x480 with 1 Axes>"
      ]
     },
     "metadata": {},
     "output_type": "display_data"
    }
   ],
   "source": [
    "countplot(\"implant\")"
   ]
  },
  {
   "cell_type": "code",
   "execution_count": 62,
   "id": "1c75d078",
   "metadata": {},
   "outputs": [
    {
     "data": {
      "image/png": "[encoded data removed]",
      "text/plain": [
       "<Figure size 640x480 with 1 Axes>"
      ]
     },
     "metadata": {},
     "output_type": "display_data"
    }
   ],
   "source": [
    "countplot(\"density\")"
   ]
  },
  {
   "cell_type": "code",
   "execution_count": 11,
   "id": "f3c06213",
   "metadata": {},
   "outputs": [
    {
     "data": {
      "text/plain": [
       "pid\n",
       "10006_L    1.552893\n",
       "10006_R    1.558744\n",
       "10011_L    0.774033\n",
       "10011_R    1.231390\n",
       "10025_L    1.051731\n",
       "             ...   \n",
       "9973_R     1.205189\n",
       "997_L      0.264304\n",
       "997_R      1.083062\n",
       "9989_L     0.605536\n",
       "9989_R     0.451664\n",
       "Name: pred, Length: 23826, dtype: float64"
      ]
     },
     "execution_count": 11,
     "metadata": {},
     "output_type": "execute_result"
    },
    {
     "ename": "",
     "evalue": "",
     "output_type": "error",
     "traceback": [
      "\u001b[1;31mThe Kernel crashed while executing code in the the current cell or a previous cell. Please review the code in the cell(s) to identify a possible cause of the failure. Click <a href='https://aka.ms/vscodeJupyterKernelCrash'>here</a> for more info. View Jupyter <a href='command:jupyter.viewOutput'>log</a> for further details."
     ]
    }
   ],
   "source": [
    "df[\"pred\"] = np.random.rand(len(df))\n",
    "df[\"pid\"] = df[\"patient_id\"].astype(str) + \"_\" + df[\"laterality\"]\n",
    "df_g1 = df.groupby(\"pid\")[\"pred\"].sum()\n",
    "df_g = df.groupby(\"pid\")[\"pred\"].apply(lambda x: (x >= 0.5).sum() >= len(x)*0.5).astype(int)\n",
    "df_g1"
   ]
  },
  {
   "cell_type": "code",
   "execution_count": 8,
   "id": "75565c08",
   "metadata": {},
   "outputs": [
    {
     "data": {
      "text/plain": [
       "pid\n",
       "10006_L    0\n",
       "10006_R    0\n",
       "10011_L    1\n",
       "10011_R    0\n",
       "10025_L    0\n",
       "          ..\n",
       "9973_R     0\n",
       "997_L      1\n",
       "997_R      1\n",
       "9989_L     0\n",
       "9989_R     0\n",
       "Name: pred, Length: 23826, dtype: int64"
      ]
     },
     "execution_count": 8,
     "metadata": {},
     "output_type": "execute_result"
    }
   ],
   "source": [
    "df_g"
   ]
  },
  {
   "cell_type": "code",
   "execution_count": null,
   "id": "99709432",
   "metadata": {},
   "outputs": [],
   "source": []
  }
 ],
 "metadata": {
  "kernelspec": {
   "display_name": "Python 3 (ipykernel)",
   "language": "python",
   "name": "python3"
  },
  "language_info": {
   "codemirror_mode": {
    "name": "ipython",
    "version": 3
   },
   "file_extension": ".py",
   "mimetype": "text/x-python",
   "name": "python",
   "nbconvert_exporter": "python",
   "pygments_lexer": "ipython3",
   "version": "3.10.6"
  },
  "vscode": {
   "interpreter": {
    "hash": "916dbcbb3f70747c44a77c7bcd40155683ae19c65e1c03b4aa3499c5328201f1"
   }
  }
 },
 "nbformat": 4,
 "nbformat_minor": 5
}
