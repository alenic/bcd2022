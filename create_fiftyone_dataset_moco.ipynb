{
 "cells": [
  {
   "cell_type": "code",
   "execution_count": 1,
   "id": "7e0c0155",
   "metadata": {},
   "outputs": [
    {
     "data": {
      "text/plain": [
       "'/media/node_ale/DATA/datasets/bcd2022/patch_128_fold_0'"
      ]
     },
     "execution_count": 1,
     "metadata": {},
     "output_type": "execute_result"
    }
   ],
   "source": [
    "import fiftyone as fo\n",
    "import pandas as pd\n",
    "import os\n",
    "import glob\n",
    "from tqdm import tqdm\n",
    "import timm\n",
    "import torch\n",
    "import torch.nn as nn\n",
    "import numpy as np\n",
    "import cv2\n",
    "import pickle\n",
    "\n",
    "resize = 32\n",
    "ds_root = os.path.join(os.environ[\"DATASET_ROOT\"], \"bcd2022\")\n",
    "image_root = os.path.join(ds_root, \"patch_128_fold_0\")\n",
    "image_root"
   ]
  },
  {
   "cell_type": "code",
   "execution_count": 2,
   "id": "ef870e70",
   "metadata": {},
   "outputs": [
    {
     "data": {
      "text/plain": [
       "['bcd2022_moco']"
      ]
     },
     "execution_count": 2,
     "metadata": {},
     "output_type": "execute_result"
    }
   ],
   "source": [
    "fo.list_datasets()"
   ]
  },
  {
   "cell_type": "code",
   "execution_count": 3,
   "id": "dd96e36a",
   "metadata": {},
   "outputs": [],
   "source": [
    "try:\n",
    "    dataset = fo.Dataset(\"bcd2022_moco\", overwrite=True)\n",
    "except ValueError as e:\n",
    "    dataset = fo.load_dataset(\"bcd2022_moco\")\n",
    "    # overwrite=True force the overvwrite\n",
    "    print(e)"
   ]
  },
  {
   "cell_type": "code",
   "execution_count": 4,
   "id": "8e7af153",
   "metadata": {},
   "outputs": [
    {
     "data": {
      "text/plain": [
       "Name:        bcd2022_moco\n",
       "Media type:  None\n",
       "Num samples: 0\n",
       "Persistent:  False\n",
       "Tags:        []\n",
       "Sample fields:\n",
       "    id:       fiftyone.core.fields.ObjectIdField\n",
       "    filepath: fiftyone.core.fields.StringField\n",
       "    tags:     fiftyone.core.fields.ListField(fiftyone.core.fields.StringField)\n",
       "    metadata: fiftyone.core.fields.EmbeddedDocumentField(fiftyone.core.metadata.Metadata)"
      ]
     },
     "execution_count": 4,
     "metadata": {},
     "output_type": "execute_result"
    }
   ],
   "source": [
    "dataset"
   ]
  },
  {
   "cell_type": "code",
   "execution_count": 5,
   "id": "1a0327bd",
   "metadata": {},
   "outputs": [
    {
     "name": "stderr",
     "output_type": "stream",
     "text": [
      "100%|████████████████████████████████████| 10000/10000 [00:10<00:00, 932.20it/s]\n"
     ]
    }
   ],
   "source": [
    "paths = glob.glob(os.path.join(image_root, \"0\", \"*.png\"))\n",
    "np.random.shuffle(paths)\n",
    "paths = paths[:10000]\n",
    "for path in tqdm(paths):\n",
    "    sample = fo.Sample(filepath=path)\n",
    "    dataset.add_sample(sample)"
   ]
  },
  {
   "cell_type": "markdown",
   "id": "417d8bb5",
   "metadata": {},
   "source": [
    "# Embeddings"
   ]
  },
  {
   "cell_type": "code",
   "execution_count": 6,
   "id": "3b7e26d9",
   "metadata": {},
   "outputs": [],
   "source": [
    "# Do Only the first time (Save as emb.npy)\n",
    "from albumentations.pytorch.transforms import ToTensorV2\n",
    "import albumentations as A\n",
    "\n",
    "device = \"cuda:0\"\n",
    "\n",
    "class DatasetInf:\n",
    "    def __init__(self, path):\n",
    "        self.path = path\n",
    "    def __len__(self):\n",
    "        return len(self.path)\n",
    "    def __getitem__(self, index):\n",
    "        img = cv2.imread(self.path[index], 0)\n",
    "        img = A.Compose([A.Resize(width=resize, height=resize), A.ToFloat(), ToTensorV2()])(image=img)[\"image\"]\n",
    "        return img\n",
    "\n",
    "\n",
    "d = DatasetInf(paths)\n",
    "loader = torch.utils.data.DataLoader(d, num_workers=8, batch_size=512)\n"
   ]
  },
  {
   "cell_type": "code",
   "execution_count": 7,
   "id": "e79cef77",
   "metadata": {},
   "outputs": [],
   "source": [
    "\n",
    "\n",
    "def load_state_dict_improved(state_dict, model: nn.Module, replace_str=None, prepend=None):\n",
    "    model_state_dict = model.state_dict()\n",
    "    ckpt_state_dict = {}\n",
    "\n",
    "    for key in state_dict:\n",
    "        keyr = key\n",
    "        if replace_str is not None:\n",
    "            keyr = keyr.replace(replace_str[0], replace_str[1])\n",
    "        if prepend is not None:\n",
    "            keyr = prepend + keyr\n",
    "        ckpt_state_dict[keyr] = state_dict[key]\n",
    "    \n",
    "\n",
    "    n_load = 0\n",
    "    for key in model_state_dict:\n",
    "        if key in ckpt_state_dict.keys():\n",
    "            model_state_dict[key] = ckpt_state_dict[key]\n",
    "            n_load += 1\n",
    "        else:\n",
    "            print(f\"model {key} is not in checkpoint\")\n",
    "\n",
    "    for key in ckpt_state_dict:\n",
    "        if key not in model_state_dict.keys():\n",
    "            print(f\"checkpoint {key} is not in model\")\n",
    "    \n",
    "    return model.load_state_dict(model_state_dict)"
   ]
  },
  {
   "cell_type": "code",
   "execution_count": 16,
   "id": "e59aaa06",
   "metadata": {},
   "outputs": [
    {
     "name": "stdout",
     "output_type": "stream",
     "text": [
      "checkpoint classifier.weight is not in model\n",
      "checkpoint classifier.bias is not in model\n",
      "<All keys matched successfully>\n"
     ]
    },
    {
     "name": "stderr",
     "output_type": "stream",
     "text": [
      "100%|███████████████████████████████████████████| 20/20 [00:01<00:00, 12.30it/s]\n"
     ]
    },
    {
     "name": "stdout",
     "output_type": "stream",
     "text": [
      "(10000, 1280)\n"
     ]
    }
   ],
   "source": [
    "\n",
    "\n",
    "model = timm.create_model(\"tf_efficientnetv2_s_in21ft1k\", in_chans=1, pretrained=False, num_classes=0)\n",
    "print(load_state_dict_improved(torch.load(\"output_moco/tf_efficientnetv2_s_in21ft1k/moco_0009.pth\"), model))\n",
    "model.eval()\n",
    "model.to(device)\n",
    "emb = []\n",
    "for k, img in enumerate(tqdm(loader)):\n",
    "    with torch.no_grad():\n",
    "        output = model(img.to(device))\n",
    "    emb += [output.cpu().numpy()]\n",
    "\n",
    "emb = np.vstack(emb)\n",
    "np.save(\"emb\", emb)\n",
    "print(emb.shape)"
   ]
  },
  {
   "cell_type": "code",
   "execution_count": 17,
   "id": "84726a45",
   "metadata": {},
   "outputs": [
    {
     "name": "stdout",
     "output_type": "stream",
     "text": [
      "Generating visualization...\n",
      "UMAP(random_state=51, verbose=True)\n",
      "Mon Jan  9 12:30:24 2023 Construct fuzzy simplicial set\n",
      "Mon Jan  9 12:30:24 2023 Finding Nearest Neighbors\n",
      "Mon Jan  9 12:30:24 2023 Building RP forest with 10 trees\n",
      "Mon Jan  9 12:30:24 2023 NN descent for 13 iterations\n",
      "\t 1  /  13\n",
      "\t 2  /  13\n",
      "\t 3  /  13\n",
      "\tStopping threshold met -- exiting after 3 iterations\n",
      "Mon Jan  9 12:30:25 2023 Finished Nearest Neighbor Search\n",
      "Mon Jan  9 12:30:25 2023 Construct embedding\n"
     ]
    },
    {
     "data": {
      "application/vnd.jupyter.widget-view+json": {
       "model_id": "3a82596ce9af44db962c31d9bfdda730",
       "version_major": 2,
       "version_minor": 0
      },
      "text/plain": [
       "Epochs completed:   0%|            0/500 [00:00]"
      ]
     },
     "metadata": {},
     "output_type": "display_data"
    },
    {
     "name": "stdout",
     "output_type": "stream",
     "text": [
      "Mon Jan  9 12:30:35 2023 Finished embedding\n"
     ]
    }
   ],
   "source": [
    "import fiftyone.brain as fob\n",
    "emb = np.load(\"emb.npy\")\n",
    "\n",
    "# Compute 2D representation\n",
    "results = fob.compute_visualization(\n",
    "    dataset,\n",
    "    embeddings=emb,\n",
    "    num_dims=2,\n",
    "    method=\"umap\",\n",
    "    brain_key=\"mnist_test\",\n",
    "    verbose=True,\n",
    "    seed=51,\n",
    ")"
   ]
  },
  {
   "cell_type": "code",
   "execution_count": null,
   "id": "7db9d4e2",
   "metadata": {},
   "outputs": [],
   "source": []
  },
  {
   "cell_type": "markdown",
   "id": "acdac8a4",
   "metadata": {},
   "source": [
    "# Launch Session"
   ]
  },
  {
   "cell_type": "code",
   "execution_count": 18,
   "id": "0ad58a07",
   "metadata": {},
   "outputs": [
    {
     "data": {
      "text/plain": [
       "5151"
      ]
     },
     "execution_count": 18,
     "metadata": {},
     "output_type": "execute_result"
    }
   ],
   "source": [
    "fo.config.default_app_port"
   ]
  },
  {
   "cell_type": "code",
   "execution_count": 19,
   "id": "c9794a8f",
   "metadata": {
    "scrolled": false
   },
   "outputs": [
    {
     "data": {
      "text/html": [
       "\n",
       "        <iframe\n",
       "            width=\"100%\"\n",
       "            height=\"800\"\n",
       "            src=\"http://localhost:5151/?context=ipython&subscription=8975b3e4-9915-4783-b09a-eecf92b64e00\"\n",
       "            frameborder=\"0\"\n",
       "            allowfullscreen\n",
       "            \n",
       "        ></iframe>\n",
       "        "
      ],
      "text/plain": [
       "<IPython.lib.display.IFrame at 0x7f4ac39c5a20>"
      ]
     },
     "metadata": {},
     "output_type": "display_data"
    },
    {
     "data": {
      "text/plain": []
     },
     "metadata": {},
     "output_type": "display_data"
    },
    {
     "data": {
      "text/plain": []
     },
     "metadata": {},
     "output_type": "display_data"
    },
    {
     "data": {
      "application/vnd.jupyter.widget-view+json": {
       "model_id": "df42029c8e9148bc8f44691451d086ff",
       "version_major": 2,
       "version_minor": 0
      },
      "text/plain": [
       "FigureWidget({\n",
       "    'data': [{'customdata': array(['63bbe25163da0aab13232e30', '63bbe25163da0aab13232e31',\n",
       "    …"
      ]
     },
     "metadata": {},
     "output_type": "display_data"
    }
   ],
   "source": [
    "session = fo.launch_app(dataset)\n",
    "\n",
    "plot = results.visualize()\n",
    "plot.show(width=720)\n",
    "\n",
    "session.plots.attach(plot)"
   ]
  },
  {
   "cell_type": "code",
   "execution_count": null,
   "id": "219b910d",
   "metadata": {},
   "outputs": [],
   "source": []
  }
 ],
 "metadata": {
  "kernelspec": {
   "display_name": "Python 3 (ipykernel)",
   "language": "python",
   "name": "python3"
  },
  "language_info": {
   "codemirror_mode": {
    "name": "ipython",
    "version": 3
   },
   "file_extension": ".py",
   "mimetype": "text/x-python",
   "name": "python",
   "nbconvert_exporter": "python",
   "pygments_lexer": "ipython3",
   "version": "3.10.6"
  },
  "vscode": {
   "interpreter": {
    "hash": "916dbcbb3f70747c44a77c7bcd40155683ae19c65e1c03b4aa3499c5328201f1"
   }
  }
 },
 "nbformat": 4,
 "nbformat_minor": 5
}
