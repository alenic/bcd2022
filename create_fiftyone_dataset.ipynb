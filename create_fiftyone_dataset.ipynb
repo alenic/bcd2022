{
 "cells": [
  {
   "cell_type": "code",
   "execution_count": 16,
   "id": "7e0c0155",
   "metadata": {},
   "outputs": [
    {
     "data": {
      "text/plain": [
       "'/media/alenic/SecondM2/dataset/bcd2022/images_512'"
      ]
     },
     "execution_count": 16,
     "metadata": {},
     "output_type": "execute_result"
    }
   ],
   "source": [
    "import fiftyone as fo\n",
    "import pandas as pd\n",
    "import os\n",
    "import glob\n",
    "from tqdm import tqdm\n",
    "import timm\n",
    "import torch\n",
    "import numpy as np\n",
    "import cv2\n",
    "\n",
    "ds_root = os.path.join(os.environ[\"DATASET_ROOT\"], \"bcd2022\")\n",
    "image_root = os.path.join(ds_root, \"images_512\")\n",
    "image_root"
   ]
  },
  {
   "cell_type": "code",
   "execution_count": 17,
   "id": "ef870e70",
   "metadata": {},
   "outputs": [
    {
     "data": {
      "text/plain": [
       "['bcd2022_512']"
      ]
     },
     "execution_count": 17,
     "metadata": {},
     "output_type": "execute_result"
    }
   ],
   "source": [
    "fo.list_datasets()"
   ]
  },
  {
   "cell_type": "code",
   "execution_count": 18,
   "id": "dd96e36a",
   "metadata": {},
   "outputs": [],
   "source": [
    "try:\n",
    "    dataset = fo.Dataset(\"bcd2022_512\", overwrite=True)\n",
    "except ValueError as e:\n",
    "    dataset = fo.load_dataset(\"bcd2022_512\")\n",
    "    # overwrite=True force the overvwrite\n",
    "    print(e)"
   ]
  },
  {
   "cell_type": "code",
   "execution_count": 19,
   "id": "6f577395",
   "metadata": {},
   "outputs": [
    {
     "data": {
      "text/html": [
       "<div>\n",
       "<style scoped>\n",
       "    .dataframe tbody tr th:only-of-type {\n",
       "        vertical-align: middle;\n",
       "    }\n",
       "\n",
       "    .dataframe tbody tr th {\n",
       "        vertical-align: top;\n",
       "    }\n",
       "\n",
       "    .dataframe thead th {\n",
       "        text-align: right;\n",
       "    }\n",
       "</style>\n",
       "<table border=\"1\" class=\"dataframe\">\n",
       "  <thead>\n",
       "    <tr style=\"text-align: right;\">\n",
       "      <th></th>\n",
       "      <th>site_id</th>\n",
       "      <th>patient_id</th>\n",
       "      <th>image_id</th>\n",
       "      <th>laterality</th>\n",
       "      <th>view</th>\n",
       "      <th>age</th>\n",
       "      <th>cancer</th>\n",
       "      <th>biopsy</th>\n",
       "      <th>invasive</th>\n",
       "      <th>BIRADS</th>\n",
       "      <th>implant</th>\n",
       "      <th>density</th>\n",
       "      <th>machine_id</th>\n",
       "      <th>difficult_negative_case</th>\n",
       "    </tr>\n",
       "  </thead>\n",
       "  <tbody>\n",
       "    <tr>\n",
       "      <th>0</th>\n",
       "      <td>2</td>\n",
       "      <td>10006</td>\n",
       "      <td>462822612</td>\n",
       "      <td>L</td>\n",
       "      <td>CC</td>\n",
       "      <td>61.0</td>\n",
       "      <td>0</td>\n",
       "      <td>0</td>\n",
       "      <td>0</td>\n",
       "      <td>NaN</td>\n",
       "      <td>0</td>\n",
       "      <td>NaN</td>\n",
       "      <td>29</td>\n",
       "      <td>False</td>\n",
       "    </tr>\n",
       "    <tr>\n",
       "      <th>1</th>\n",
       "      <td>2</td>\n",
       "      <td>10006</td>\n",
       "      <td>1459541791</td>\n",
       "      <td>L</td>\n",
       "      <td>MLO</td>\n",
       "      <td>61.0</td>\n",
       "      <td>0</td>\n",
       "      <td>0</td>\n",
       "      <td>0</td>\n",
       "      <td>NaN</td>\n",
       "      <td>0</td>\n",
       "      <td>NaN</td>\n",
       "      <td>29</td>\n",
       "      <td>False</td>\n",
       "    </tr>\n",
       "    <tr>\n",
       "      <th>2</th>\n",
       "      <td>2</td>\n",
       "      <td>10006</td>\n",
       "      <td>1864590858</td>\n",
       "      <td>R</td>\n",
       "      <td>MLO</td>\n",
       "      <td>61.0</td>\n",
       "      <td>0</td>\n",
       "      <td>0</td>\n",
       "      <td>0</td>\n",
       "      <td>NaN</td>\n",
       "      <td>0</td>\n",
       "      <td>NaN</td>\n",
       "      <td>29</td>\n",
       "      <td>False</td>\n",
       "    </tr>\n",
       "    <tr>\n",
       "      <th>3</th>\n",
       "      <td>2</td>\n",
       "      <td>10006</td>\n",
       "      <td>1874946579</td>\n",
       "      <td>R</td>\n",
       "      <td>CC</td>\n",
       "      <td>61.0</td>\n",
       "      <td>0</td>\n",
       "      <td>0</td>\n",
       "      <td>0</td>\n",
       "      <td>NaN</td>\n",
       "      <td>0</td>\n",
       "      <td>NaN</td>\n",
       "      <td>29</td>\n",
       "      <td>False</td>\n",
       "    </tr>\n",
       "    <tr>\n",
       "      <th>4</th>\n",
       "      <td>2</td>\n",
       "      <td>10011</td>\n",
       "      <td>220375232</td>\n",
       "      <td>L</td>\n",
       "      <td>CC</td>\n",
       "      <td>55.0</td>\n",
       "      <td>0</td>\n",
       "      <td>0</td>\n",
       "      <td>0</td>\n",
       "      <td>0.0</td>\n",
       "      <td>0</td>\n",
       "      <td>NaN</td>\n",
       "      <td>21</td>\n",
       "      <td>True</td>\n",
       "    </tr>\n",
       "  </tbody>\n",
       "</table>\n",
       "</div>"
      ],
      "text/plain": [
       "   site_id  patient_id    image_id laterality view   age  cancer  biopsy  \\\n",
       "0        2       10006   462822612          L   CC  61.0       0       0   \n",
       "1        2       10006  1459541791          L  MLO  61.0       0       0   \n",
       "2        2       10006  1864590858          R  MLO  61.0       0       0   \n",
       "3        2       10006  1874946579          R   CC  61.0       0       0   \n",
       "4        2       10011   220375232          L   CC  55.0       0       0   \n",
       "\n",
       "   invasive  BIRADS  implant density  machine_id  difficult_negative_case  \n",
       "0         0     NaN        0     NaN          29                    False  \n",
       "1         0     NaN        0     NaN          29                    False  \n",
       "2         0     NaN        0     NaN          29                    False  \n",
       "3         0     NaN        0     NaN          29                    False  \n",
       "4         0     0.0        0     NaN          21                     True  "
      ]
     },
     "execution_count": 19,
     "metadata": {},
     "output_type": "execute_result"
    }
   ],
   "source": [
    "df = pd.read_csv(os.path.join(ds_root, \"train.csv\"))\n",
    "df.head()"
   ]
  },
  {
   "cell_type": "code",
   "execution_count": 20,
   "id": "adfec0ff",
   "metadata": {},
   "outputs": [],
   "source": [
    "df[\"laterality\"] = df[\"laterality\"].astype(str)\n",
    "df[\"view\"] = df[\"view\"].astype(str)\n",
    "df[\"density\"] = df[\"density\"].astype(str)\n",
    "df[\"machine_id\"] = df[\"machine_id\"].astype(str)"
   ]
  },
  {
   "cell_type": "code",
   "execution_count": 21,
   "id": "08cbd42d",
   "metadata": {},
   "outputs": [
    {
     "name": "stderr",
     "output_type": "stream",
     "text": [
      "54706it [00:33, 1609.29it/s]\n"
     ]
    }
   ],
   "source": [
    "for index, row in tqdm(df.iterrows()):\n",
    "    filename = f\"{row.patient_id}_{row.image_id}.png\"\n",
    "    sample_path = os.path.join(image_root, filename)\n",
    "    sample = fo.Sample(filepath=sample_path)\n",
    "    sample[\"l_site_id\"] = row.site_id\n",
    "    sample[\"l_laterality\"] = row.laterality\n",
    "    sample[\"l_view\"] = row[\"view\"]\n",
    "    sample[\"l_age\"] = row.age\n",
    "    sample[\"l_cancer\"] = row.cancer\n",
    "    sample[\"l_biopsy\"] = row.biopsy\n",
    "    sample[\"l_invasive\"] = row.invasive\n",
    "    sample[\"l_BIRADS\"] = row.BIRADS\n",
    "    sample[\"l_implant\"] = row.implant\n",
    "    sample[\"l_density\"] = row.density\n",
    "    sample[\"l_machine_id\"] = str(row.machine_id)\n",
    "    sample[\"l_difficult_negative_case\"] = row.difficult_negative_case\n",
    "    dataset.add_sample(sample)\n"
   ]
  },
  {
   "cell_type": "markdown",
   "id": "417d8bb5",
   "metadata": {},
   "source": [
    "# Embeddings"
   ]
  },
  {
   "cell_type": "code",
   "execution_count": 98,
   "id": "e59aaa06",
   "metadata": {},
   "outputs": [
    {
     "name": "stderr",
     "output_type": "stream",
     "text": [
      "100%|█████████████████████████████████████████| 855/855 [01:28<00:00,  9.68it/s]\n"
     ]
    },
    {
     "name": "stdout",
     "output_type": "stream",
     "text": [
      "(54706, 2048)\n"
     ]
    }
   ],
   "source": [
    "# Do Only the first time (Save as emb.npy)\n",
    "from albumentations.pytorch.transforms import ToTensorV2\n",
    "import albumentations as A\n",
    "\n",
    "device = \"cuda:0\"\n",
    "\n",
    "class DatasetInf:\n",
    "    def __init__(self, path):\n",
    "        self.path = path\n",
    "    def __len__(self):\n",
    "        return len(self.path)\n",
    "    def __getitem__(self, index):\n",
    "        img = cv2.imread(self.path[index], 0)\n",
    "        img = A.Compose([A.Resize((224,224)), A.ToFloat(), ToTensorV2()])(image=img)[\"image\"]\n",
    "        return img\n",
    "paths = [x for x in dataset.values(\"filepath\") ]\n",
    "d = DatasetInf(paths)\n",
    "loader = torch.utils.data.DataLoader(d, num_workers=8, batch_size=64)\n",
    "\n",
    "model = timm.create_model(\"resnet50\", in_chans=1, pretrained=True, num_classes=0)\n",
    "model.eval()\n",
    "model.to(device)\n",
    "emb = []\n",
    "for k, img in enumerate(tqdm(loader)):\n",
    "    with torch.no_grad():\n",
    "        output = model(img.to(device))\n",
    "    emb += [output.cpu().numpy()]\n",
    "\n",
    "emb = np.vstack(emb)\n",
    "np.save(\"emb\", emb)\n",
    "print(emb.shape)"
   ]
  },
  {
   "cell_type": "code",
   "execution_count": 14,
   "id": "b1729d1a",
   "metadata": {},
   "outputs": [
    {
     "data": {
      "text/plain": [
       "(54706, 2048)"
      ]
     },
     "execution_count": 14,
     "metadata": {},
     "output_type": "execute_result"
    }
   ],
   "source": [
    "emb.shape"
   ]
  },
  {
   "cell_type": "code",
   "execution_count": 22,
   "id": "84726a45",
   "metadata": {},
   "outputs": [
    {
     "name": "stdout",
     "output_type": "stream",
     "text": [
      "Generating visualization...\n",
      "UMAP(random_state=51, verbose=True)\n",
      "Thu Dec  8 19:37:19 2022 Construct fuzzy simplicial set\n",
      "Thu Dec  8 19:37:19 2022 Finding Nearest Neighbors\n",
      "Thu Dec  8 19:37:19 2022 Building RP forest with 17 trees\n",
      "Thu Dec  8 19:37:23 2022 NN descent for 16 iterations\n",
      "\t 1  /  16\n",
      "\t 2  /  16\n",
      "\t 3  /  16\n",
      "\t 4  /  16\n",
      "\t 5  /  16\n",
      "\tStopping threshold met -- exiting after 5 iterations\n",
      "Thu Dec  8 19:37:26 2022 Finished Nearest Neighbor Search\n",
      "Thu Dec  8 19:37:26 2022 Construct embedding\n"
     ]
    },
    {
     "data": {
      "application/vnd.jupyter.widget-view+json": {
       "model_id": "bea776b8808a40a99ae914b7389f45b8",
       "version_major": 2,
       "version_minor": 0
      },
      "text/plain": [
       "Epochs completed:   0%|            0/200 [00:00]"
      ]
     },
     "metadata": {},
     "output_type": "display_data"
    },
    {
     "name": "stdout",
     "output_type": "stream",
     "text": [
      "Thu Dec  8 19:37:48 2022 Finished embedding\n"
     ]
    }
   ],
   "source": [
    "import fiftyone.brain as fob\n",
    "emb = np.load(\"emb.npy\")\n",
    "\n",
    "# Compute 2D representation\n",
    "results = fob.compute_visualization(\n",
    "    dataset,\n",
    "    embeddings=emb,\n",
    "    num_dims=2,\n",
    "    method=\"umap\",\n",
    "    brain_key=\"mnist_test\",\n",
    "    verbose=True,\n",
    "    seed=51,\n",
    ")"
   ]
  },
  {
   "cell_type": "markdown",
   "id": "acdac8a4",
   "metadata": {},
   "source": [
    "# Launch Session"
   ]
  },
  {
   "cell_type": "code",
   "execution_count": 25,
   "id": "0ad58a07",
   "metadata": {},
   "outputs": [
    {
     "data": {
      "text/plain": [
       "5151"
      ]
     },
     "execution_count": 25,
     "metadata": {},
     "output_type": "execute_result"
    }
   ],
   "source": [
    "fo.config.default_app_port"
   ]
  },
  {
   "cell_type": "code",
   "execution_count": 38,
   "id": "c9794a8f",
   "metadata": {},
   "outputs": [
    {
     "data": {
      "text/html": [
       "\n",
       "        <iframe\n",
       "            width=\"100%\"\n",
       "            height=\"800\"\n",
       "            src=\"http://localhost:5151/?context=ipython&subscription=c08f905e-b89e-4830-bab1-00e33f8dbcea\"\n",
       "            frameborder=\"0\"\n",
       "            allowfullscreen\n",
       "            \n",
       "        ></iframe>\n",
       "        "
      ],
      "text/plain": [
       "<IPython.lib.display.IFrame at 0x7f3f34f68370>"
      ]
     },
     "metadata": {},
     "output_type": "display_data"
    },
    {
     "data": {
      "text/plain": []
     },
     "metadata": {},
     "output_type": "display_data"
    },
    {
     "data": {
      "text/plain": []
     },
     "metadata": {},
     "output_type": "display_data"
    },
    {
     "data": {
      "application/vnd.jupyter.widget-view+json": {
       "model_id": "9d74b5ad80114ca89e89ddfcfd71ec21",
       "version_major": 2,
       "version_minor": 0
      },
      "text/plain": [
       "FigureWidget({\n",
       "    'data': [{'customdata': array(['63922eb9e21c66d2736d06ac', '63922ebce21c66d2736d1926',\n",
       "    …"
      ]
     },
     "metadata": {},
     "output_type": "display_data"
    }
   ],
   "source": [
    "session = fo.launch_app(dataset)  # optional: port=XXXX\n",
    "\n",
    "plot = results.visualize(labels=\"l_view\")\n",
    "plot.show(height=720)\n",
    "\n",
    "# Attach plot to session\n",
    "session.plots.attach(plot)\n"
   ]
  },
  {
   "cell_type": "code",
   "execution_count": null,
   "id": "08cc2f0e",
   "metadata": {},
   "outputs": [],
   "source": [
    "\n",
    "\n",
    "# Blocks execution until the App is closed\n",
    "session.wait()"
   ]
  }
 ],
 "metadata": {
  "kernelspec": {
   "display_name": "Python 3 (ipykernel)",
   "language": "python",
   "name": "python3"
  },
  "language_info": {
   "codemirror_mode": {
    "name": "ipython",
    "version": 3
   },
   "file_extension": ".py",
   "mimetype": "text/x-python",
   "name": "python",
   "nbconvert_exporter": "python",
   "pygments_lexer": "ipython3",
   "version": "3.10.6"
  }
 },
 "nbformat": 4,
 "nbformat_minor": 5
}
